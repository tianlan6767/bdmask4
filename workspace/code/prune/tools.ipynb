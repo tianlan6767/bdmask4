{
 "cells": [
  {
   "cell_type": "code",
   "execution_count": 1,
   "metadata": {},
   "outputs": [],
   "source": [
    "import torch.nn as nn\n",
    "import torch\n",
    "import numpy as np"
   ]
  },
  {
   "cell_type": "code",
   "execution_count": 2,
   "metadata": {},
   "outputs": [],
   "source": [
    "model_prune = torch.load(r\"/media/ps/data/train/LQ/task/prune/prune-tp-0119-prune05.pth\", map_location=\"cpu\")['struct']\n",
    "model = torch.load(r\"/media/ps/data/train/LQ/task/prune/weights-allbn-orig/model_0022999.pth\", map_location=\"cpu\")['struct']\n"
   ]
  },
  {
   "cell_type": "code",
   "execution_count": 22,
   "metadata": {},
   "outputs": [
    {
     "name": "stdout",
     "output_type": "stream",
     "text": [
      "odict_keys(['backbone.fpn_lateral3.weight', 'backbone.fpn_lateral3.bias', 'backbone.fpn_output3.weight', 'backbone.fpn_output3.bias', 'backbone.fpn_lateral4.weight', 'backbone.fpn_lateral4.bias', 'backbone.fpn_output4.weight', 'backbone.fpn_output4.bias', 'backbone.fpn_lateral5.weight', 'backbone.fpn_lateral5.bias', 'backbone.fpn_output5.weight', 'backbone.fpn_output5.bias', 'backbone.top_block.p6.weight', 'backbone.top_block.p6.bias', 'backbone.top_block.p7.weight', 'backbone.top_block.p7.bias', 'backbone.bottom_up.stem.conv1.weight', 'backbone.bottom_up.stem.norm1.weight', 'backbone.bottom_up.stem.norm1.bias', 'backbone.bottom_up.stem.norm1.running_mean', 'backbone.bottom_up.stem.norm1.running_var', 'backbone.bottom_up.stem.norm1.num_batches_tracked', 'backbone.bottom_up.res2.0.conv1.weight', 'backbone.bottom_up.res2.0.norm1.weight', 'backbone.bottom_up.res2.0.norm1.bias', 'backbone.bottom_up.res2.0.norm1.running_mean', 'backbone.bottom_up.res2.0.norm1.running_var', 'backbone.bottom_up.res2.0.norm1.num_batches_tracked', 'backbone.bottom_up.res2.0.conv2.weight', 'backbone.bottom_up.res2.0.norm2.weight', 'backbone.bottom_up.res2.0.norm2.bias', 'backbone.bottom_up.res2.0.norm2.running_mean', 'backbone.bottom_up.res2.0.norm2.running_var', 'backbone.bottom_up.res2.0.norm2.num_batches_tracked', 'backbone.bottom_up.res2.1.conv1.weight', 'backbone.bottom_up.res2.1.norm1.weight', 'backbone.bottom_up.res2.1.norm1.bias', 'backbone.bottom_up.res2.1.norm1.running_mean', 'backbone.bottom_up.res2.1.norm1.running_var', 'backbone.bottom_up.res2.1.norm1.num_batches_tracked', 'backbone.bottom_up.res2.1.conv2.weight', 'backbone.bottom_up.res2.1.norm2.weight', 'backbone.bottom_up.res2.1.norm2.bias', 'backbone.bottom_up.res2.1.norm2.running_mean', 'backbone.bottom_up.res2.1.norm2.running_var', 'backbone.bottom_up.res2.1.norm2.num_batches_tracked', 'backbone.bottom_up.res2.2.conv1.weight', 'backbone.bottom_up.res2.2.norm1.weight', 'backbone.bottom_up.res2.2.norm1.bias', 'backbone.bottom_up.res2.2.norm1.running_mean', 'backbone.bottom_up.res2.2.norm1.running_var', 'backbone.bottom_up.res2.2.norm1.num_batches_tracked', 'backbone.bottom_up.res2.2.conv2.weight', 'backbone.bottom_up.res2.2.norm2.weight', 'backbone.bottom_up.res2.2.norm2.bias', 'backbone.bottom_up.res2.2.norm2.running_mean', 'backbone.bottom_up.res2.2.norm2.running_var', 'backbone.bottom_up.res2.2.norm2.num_batches_tracked', 'backbone.bottom_up.res3.0.shortcut.weight', 'backbone.bottom_up.res3.0.norm3.weight', 'backbone.bottom_up.res3.0.norm3.bias', 'backbone.bottom_up.res3.0.norm3.running_mean', 'backbone.bottom_up.res3.0.norm3.running_var', 'backbone.bottom_up.res3.0.norm3.num_batches_tracked', 'backbone.bottom_up.res3.0.conv1.weight', 'backbone.bottom_up.res3.0.norm1.weight', 'backbone.bottom_up.res3.0.norm1.bias', 'backbone.bottom_up.res3.0.norm1.running_mean', 'backbone.bottom_up.res3.0.norm1.running_var', 'backbone.bottom_up.res3.0.norm1.num_batches_tracked', 'backbone.bottom_up.res3.0.conv2.weight', 'backbone.bottom_up.res3.0.norm2.weight', 'backbone.bottom_up.res3.0.norm2.bias', 'backbone.bottom_up.res3.0.norm2.running_mean', 'backbone.bottom_up.res3.0.norm2.running_var', 'backbone.bottom_up.res3.0.norm2.num_batches_tracked', 'backbone.bottom_up.res3.1.conv1.weight', 'backbone.bottom_up.res3.1.norm1.weight', 'backbone.bottom_up.res3.1.norm1.bias', 'backbone.bottom_up.res3.1.norm1.running_mean', 'backbone.bottom_up.res3.1.norm1.running_var', 'backbone.bottom_up.res3.1.norm1.num_batches_tracked', 'backbone.bottom_up.res3.1.conv2.weight', 'backbone.bottom_up.res3.1.norm2.weight', 'backbone.bottom_up.res3.1.norm2.bias', 'backbone.bottom_up.res3.1.norm2.running_mean', 'backbone.bottom_up.res3.1.norm2.running_var', 'backbone.bottom_up.res3.1.norm2.num_batches_tracked', 'backbone.bottom_up.res3.2.conv1.weight', 'backbone.bottom_up.res3.2.norm1.weight', 'backbone.bottom_up.res3.2.norm1.bias', 'backbone.bottom_up.res3.2.norm1.running_mean', 'backbone.bottom_up.res3.2.norm1.running_var', 'backbone.bottom_up.res3.2.norm1.num_batches_tracked', 'backbone.bottom_up.res3.2.conv2.weight', 'backbone.bottom_up.res3.2.norm2.weight', 'backbone.bottom_up.res3.2.norm2.bias', 'backbone.bottom_up.res3.2.norm2.running_mean', 'backbone.bottom_up.res3.2.norm2.running_var', 'backbone.bottom_up.res3.2.norm2.num_batches_tracked', 'backbone.bottom_up.res3.3.conv1.weight', 'backbone.bottom_up.res3.3.norm1.weight', 'backbone.bottom_up.res3.3.norm1.bias', 'backbone.bottom_up.res3.3.norm1.running_mean', 'backbone.bottom_up.res3.3.norm1.running_var', 'backbone.bottom_up.res3.3.norm1.num_batches_tracked', 'backbone.bottom_up.res3.3.conv2.weight', 'backbone.bottom_up.res3.3.norm2.weight', 'backbone.bottom_up.res3.3.norm2.bias', 'backbone.bottom_up.res3.3.norm2.running_mean', 'backbone.bottom_up.res3.3.norm2.running_var', 'backbone.bottom_up.res3.3.norm2.num_batches_tracked', 'backbone.bottom_up.res4.0.shortcut.weight', 'backbone.bottom_up.res4.0.norm3.weight', 'backbone.bottom_up.res4.0.norm3.bias', 'backbone.bottom_up.res4.0.norm3.running_mean', 'backbone.bottom_up.res4.0.norm3.running_var', 'backbone.bottom_up.res4.0.norm3.num_batches_tracked', 'backbone.bottom_up.res4.0.conv1.weight', 'backbone.bottom_up.res4.0.norm1.weight', 'backbone.bottom_up.res4.0.norm1.bias', 'backbone.bottom_up.res4.0.norm1.running_mean', 'backbone.bottom_up.res4.0.norm1.running_var', 'backbone.bottom_up.res4.0.norm1.num_batches_tracked', 'backbone.bottom_up.res4.0.conv2.weight', 'backbone.bottom_up.res4.0.norm2.weight', 'backbone.bottom_up.res4.0.norm2.bias', 'backbone.bottom_up.res4.0.norm2.running_mean', 'backbone.bottom_up.res4.0.norm2.running_var', 'backbone.bottom_up.res4.0.norm2.num_batches_tracked', 'backbone.bottom_up.res4.1.conv1.weight', 'backbone.bottom_up.res4.1.norm1.weight', 'backbone.bottom_up.res4.1.norm1.bias', 'backbone.bottom_up.res4.1.norm1.running_mean', 'backbone.bottom_up.res4.1.norm1.running_var', 'backbone.bottom_up.res4.1.norm1.num_batches_tracked', 'backbone.bottom_up.res4.1.conv2.weight', 'backbone.bottom_up.res4.1.norm2.weight', 'backbone.bottom_up.res4.1.norm2.bias', 'backbone.bottom_up.res4.1.norm2.running_mean', 'backbone.bottom_up.res4.1.norm2.running_var', 'backbone.bottom_up.res4.1.norm2.num_batches_tracked', 'backbone.bottom_up.res4.2.conv1.weight', 'backbone.bottom_up.res4.2.norm1.weight', 'backbone.bottom_up.res4.2.norm1.bias', 'backbone.bottom_up.res4.2.norm1.running_mean', 'backbone.bottom_up.res4.2.norm1.running_var', 'backbone.bottom_up.res4.2.norm1.num_batches_tracked', 'backbone.bottom_up.res4.2.conv2.weight', 'backbone.bottom_up.res4.2.norm2.weight', 'backbone.bottom_up.res4.2.norm2.bias', 'backbone.bottom_up.res4.2.norm2.running_mean', 'backbone.bottom_up.res4.2.norm2.running_var', 'backbone.bottom_up.res4.2.norm2.num_batches_tracked', 'backbone.bottom_up.res4.3.conv1.weight', 'backbone.bottom_up.res4.3.norm1.weight', 'backbone.bottom_up.res4.3.norm1.bias', 'backbone.bottom_up.res4.3.norm1.running_mean', 'backbone.bottom_up.res4.3.norm1.running_var', 'backbone.bottom_up.res4.3.norm1.num_batches_tracked', 'backbone.bottom_up.res4.3.conv2.weight', 'backbone.bottom_up.res4.3.norm2.weight', 'backbone.bottom_up.res4.3.norm2.bias', 'backbone.bottom_up.res4.3.norm2.running_mean', 'backbone.bottom_up.res4.3.norm2.running_var', 'backbone.bottom_up.res4.3.norm2.num_batches_tracked', 'backbone.bottom_up.res4.4.conv1.weight', 'backbone.bottom_up.res4.4.norm1.weight', 'backbone.bottom_up.res4.4.norm1.bias', 'backbone.bottom_up.res4.4.norm1.running_mean', 'backbone.bottom_up.res4.4.norm1.running_var', 'backbone.bottom_up.res4.4.norm1.num_batches_tracked', 'backbone.bottom_up.res4.4.conv2.weight', 'backbone.bottom_up.res4.4.norm2.weight', 'backbone.bottom_up.res4.4.norm2.bias', 'backbone.bottom_up.res4.4.norm2.running_mean', 'backbone.bottom_up.res4.4.norm2.running_var', 'backbone.bottom_up.res4.4.norm2.num_batches_tracked', 'backbone.bottom_up.res4.5.conv1.weight', 'backbone.bottom_up.res4.5.norm1.weight', 'backbone.bottom_up.res4.5.norm1.bias', 'backbone.bottom_up.res4.5.norm1.running_mean', 'backbone.bottom_up.res4.5.norm1.running_var', 'backbone.bottom_up.res4.5.norm1.num_batches_tracked', 'backbone.bottom_up.res4.5.conv2.weight', 'backbone.bottom_up.res4.5.norm2.weight', 'backbone.bottom_up.res4.5.norm2.bias', 'backbone.bottom_up.res4.5.norm2.running_mean', 'backbone.bottom_up.res4.5.norm2.running_var', 'backbone.bottom_up.res4.5.norm2.num_batches_tracked', 'backbone.bottom_up.res5.0.shortcut.weight', 'backbone.bottom_up.res5.0.norm3.weight', 'backbone.bottom_up.res5.0.norm3.bias', 'backbone.bottom_up.res5.0.norm3.running_mean', 'backbone.bottom_up.res5.0.norm3.running_var', 'backbone.bottom_up.res5.0.norm3.num_batches_tracked', 'backbone.bottom_up.res5.0.conv1.weight', 'backbone.bottom_up.res5.0.norm1.weight', 'backbone.bottom_up.res5.0.norm1.bias', 'backbone.bottom_up.res5.0.norm1.running_mean', 'backbone.bottom_up.res5.0.norm1.running_var', 'backbone.bottom_up.res5.0.norm1.num_batches_tracked', 'backbone.bottom_up.res5.0.conv2.weight', 'backbone.bottom_up.res5.0.norm2.weight', 'backbone.bottom_up.res5.0.norm2.bias', 'backbone.bottom_up.res5.0.norm2.running_mean', 'backbone.bottom_up.res5.0.norm2.running_var', 'backbone.bottom_up.res5.0.norm2.num_batches_tracked', 'backbone.bottom_up.res5.1.conv1.weight', 'backbone.bottom_up.res5.1.norm1.weight', 'backbone.bottom_up.res5.1.norm1.bias', 'backbone.bottom_up.res5.1.norm1.running_mean', 'backbone.bottom_up.res5.1.norm1.running_var', 'backbone.bottom_up.res5.1.norm1.num_batches_tracked', 'backbone.bottom_up.res5.1.conv2.weight', 'backbone.bottom_up.res5.1.norm2.weight', 'backbone.bottom_up.res5.1.norm2.bias', 'backbone.bottom_up.res5.1.norm2.running_mean', 'backbone.bottom_up.res5.1.norm2.running_var', 'backbone.bottom_up.res5.1.norm2.num_batches_tracked', 'backbone.bottom_up.res5.2.conv1.weight', 'backbone.bottom_up.res5.2.norm1.weight', 'backbone.bottom_up.res5.2.norm1.bias', 'backbone.bottom_up.res5.2.norm1.running_mean', 'backbone.bottom_up.res5.2.norm1.running_var', 'backbone.bottom_up.res5.2.norm1.num_batches_tracked', 'backbone.bottom_up.res5.2.conv2.weight', 'backbone.bottom_up.res5.2.norm2.weight', 'backbone.bottom_up.res5.2.norm2.bias', 'backbone.bottom_up.res5.2.norm2.running_mean', 'backbone.bottom_up.res5.2.norm2.running_var', 'backbone.bottom_up.res5.2.norm2.num_batches_tracked', 'proposal_generator.fcos_head.cls_tower.0.weight', 'proposal_generator.fcos_head.cls_tower.0.bias', 'proposal_generator.fcos_head.cls_tower.1.weight', 'proposal_generator.fcos_head.cls_tower.1.bias', 'proposal_generator.fcos_head.cls_tower.3.weight', 'proposal_generator.fcos_head.cls_tower.3.bias', 'proposal_generator.fcos_head.cls_tower.4.weight', 'proposal_generator.fcos_head.cls_tower.4.bias', 'proposal_generator.fcos_head.cls_tower.6.weight', 'proposal_generator.fcos_head.cls_tower.6.bias', 'proposal_generator.fcos_head.cls_tower.7.weight', 'proposal_generator.fcos_head.cls_tower.7.bias', 'proposal_generator.fcos_head.cls_tower.9.weight', 'proposal_generator.fcos_head.cls_tower.9.bias', 'proposal_generator.fcos_head.cls_tower.10.weight', 'proposal_generator.fcos_head.cls_tower.10.bias', 'proposal_generator.fcos_head.bbox_tower.0.weight', 'proposal_generator.fcos_head.bbox_tower.0.bias', 'proposal_generator.fcos_head.bbox_tower.1.weight', 'proposal_generator.fcos_head.bbox_tower.1.bias', 'proposal_generator.fcos_head.bbox_tower.3.weight', 'proposal_generator.fcos_head.bbox_tower.3.bias', 'proposal_generator.fcos_head.bbox_tower.4.weight', 'proposal_generator.fcos_head.bbox_tower.4.bias', 'proposal_generator.fcos_head.bbox_tower.6.weight', 'proposal_generator.fcos_head.bbox_tower.6.bias', 'proposal_generator.fcos_head.bbox_tower.7.weight', 'proposal_generator.fcos_head.bbox_tower.7.bias', 'proposal_generator.fcos_head.bbox_tower.9.weight', 'proposal_generator.fcos_head.bbox_tower.9.bias', 'proposal_generator.fcos_head.bbox_tower.10.weight', 'proposal_generator.fcos_head.bbox_tower.10.bias', 'proposal_generator.fcos_head.cls_logits.weight', 'proposal_generator.fcos_head.cls_logits.bias', 'proposal_generator.fcos_head.bbox_pred.weight', 'proposal_generator.fcos_head.bbox_pred.bias', 'proposal_generator.fcos_head.ctrness.weight', 'proposal_generator.fcos_head.ctrness.bias', 'basis_module.refine.0.0.weight', 'basis_module.refine.0.1.weight', 'basis_module.refine.0.1.bias', 'basis_module.refine.0.1.running_mean', 'basis_module.refine.0.1.running_var', 'basis_module.refine.0.1.num_batches_tracked', 'basis_module.refine.1.0.weight', 'basis_module.refine.1.1.weight', 'basis_module.refine.1.1.bias', 'basis_module.refine.1.1.running_mean', 'basis_module.refine.1.1.running_var', 'basis_module.refine.1.1.num_batches_tracked', 'basis_module.refine.2.0.weight', 'basis_module.refine.2.1.weight', 'basis_module.refine.2.1.bias', 'basis_module.refine.2.1.running_mean', 'basis_module.refine.2.1.running_var', 'basis_module.refine.2.1.num_batches_tracked', 'basis_module.tower.0.0.weight', 'basis_module.tower.0.1.weight', 'basis_module.tower.0.1.bias', 'basis_module.tower.0.1.running_mean', 'basis_module.tower.0.1.running_var', 'basis_module.tower.0.1.num_batches_tracked', 'basis_module.tower.1.0.weight', 'basis_module.tower.1.1.weight', 'basis_module.tower.1.1.bias', 'basis_module.tower.1.1.running_mean', 'basis_module.tower.1.1.running_var', 'basis_module.tower.1.1.num_batches_tracked', 'basis_module.tower.2.0.weight', 'basis_module.tower.2.1.weight', 'basis_module.tower.2.1.bias', 'basis_module.tower.2.1.running_mean', 'basis_module.tower.2.1.running_var', 'basis_module.tower.2.1.num_batches_tracked', 'basis_module.tower.4.0.weight', 'basis_module.tower.4.1.weight', 'basis_module.tower.4.1.bias', 'basis_module.tower.4.1.running_mean', 'basis_module.tower.4.1.running_var', 'basis_module.tower.4.1.num_batches_tracked', 'basis_module.tower.5.weight', 'basis_module.tower.5.bias', 'top_layer.weight', 'top_layer.bias'])\n"
     ]
    }
   ],
   "source": [
    "print(model.state_dict().keys())\n"
   ]
  },
  {
   "cell_type": "code",
   "execution_count": null,
   "metadata": {},
   "outputs": [],
   "source": [
    "print(model_prune.state_dict()['backbone.fpn_lateral3.weight'].shape)"
   ]
  },
  {
   "cell_type": "code",
   "execution_count": null,
   "metadata": {},
   "outputs": [],
   "source": [
    "(model_prune.state_dict()['backbone.fpn_lateral3.weight'] == model.state_dict()['backbone.fpn_lateral3.weight']).all()"
   ]
  },
  {
   "cell_type": "code",
   "execution_count": null,
   "metadata": {},
   "outputs": [],
   "source": [
    "model_prune.state_dict()['backbone.bottom_up.stem.norm1.weight']"
   ]
  },
  {
   "cell_type": "code",
   "execution_count": null,
   "metadata": {},
   "outputs": [],
   "source": [
    "model.state_dict()['backbone.bottom_up.stem.norm1.weight']"
   ]
  },
  {
   "cell_type": "code",
   "execution_count": null,
   "metadata": {},
   "outputs": [],
   "source": [
    "for name, p in model_prune.named_parameters():\n",
    "    print(p.requires_grad)"
   ]
  },
  {
   "cell_type": "code",
   "execution_count": 4,
   "metadata": {},
   "outputs": [],
   "source": [
    "def unwrap_model(model):\n",
    "\t# loops through all layers of model, including inside modulelists and sequentials\n",
    "\tlayers = []\n",
    "\tdef unwrap_inside(modules):\n",
    "\t\tfor m in modules.children():\n",
    "\t\t\tif isinstance(m,nn.Sequential):\n",
    "\t\t\t\tunwrap_inside(m)\n",
    "\t\t\telif isinstance(m,nn.ModuleList):\n",
    "\t\t\t\tfor m2 in m:\n",
    "\t\t\t\t\tunwrap_inside(m2)\n",
    "\t\t\telse:\n",
    "\t\t\t\tlayers.append(m)\n",
    "\tunwrap_inside(model)\n",
    "\treturn nn.ModuleList(layers)"
   ]
  },
  {
   "cell_type": "code",
   "execution_count": 25,
   "metadata": {},
   "outputs": [],
   "source": [
    "from detectron2.layers import Conv2d\n",
    "layers =[]\n",
    "for name, m in model.named_modules():\n",
    "    if isinstance(m, (Conv2d, nn.Conv2d)):\n",
    "        layers.append((name, m))"
   ]
  },
  {
   "cell_type": "code",
   "execution_count": 26,
   "metadata": {},
   "outputs": [
    {
     "data": {
      "text/plain": [
       "([('backbone.fpn_lateral3',\n",
       "   Conv2d(128, 256, kernel_size=(1, 1), stride=(1, 1))),\n",
       "  ('backbone.fpn_output3',\n",
       "   Conv2d(256, 256, kernel_size=(3, 3), stride=(1, 1), padding=(1, 1))),\n",
       "  ('backbone.fpn_lateral4',\n",
       "   Conv2d(256, 256, kernel_size=(1, 1), stride=(1, 1))),\n",
       "  ('backbone.fpn_output4',\n",
       "   Conv2d(256, 256, kernel_size=(3, 3), stride=(1, 1), padding=(1, 1))),\n",
       "  ('backbone.fpn_lateral5',\n",
       "   Conv2d(512, 256, kernel_size=(1, 1), stride=(1, 1))),\n",
       "  ('backbone.fpn_output5',\n",
       "   Conv2d(256, 256, kernel_size=(3, 3), stride=(1, 1), padding=(1, 1))),\n",
       "  ('backbone.top_block.p6',\n",
       "   Conv2d(256, 256, kernel_size=(3, 3), stride=(2, 2), padding=(1, 1))),\n",
       "  ('backbone.top_block.p7',\n",
       "   Conv2d(256, 256, kernel_size=(3, 3), stride=(2, 2), padding=(1, 1))),\n",
       "  ('backbone.bottom_up.stem.conv1',\n",
       "   Conv2d(3, 64, kernel_size=(7, 7), stride=(2, 2), padding=(3, 3), bias=False)),\n",
       "  ('backbone.bottom_up.res2.0.conv1',\n",
       "   Conv2d(64, 64, kernel_size=(3, 3), stride=(1, 1), padding=(1, 1), bias=False)),\n",
       "  ('backbone.bottom_up.res2.0.conv2',\n",
       "   Conv2d(64, 64, kernel_size=(3, 3), stride=(1, 1), padding=(1, 1), bias=False)),\n",
       "  ('backbone.bottom_up.res2.1.conv1',\n",
       "   Conv2d(64, 64, kernel_size=(3, 3), stride=(1, 1), padding=(1, 1), bias=False)),\n",
       "  ('backbone.bottom_up.res2.1.conv2',\n",
       "   Conv2d(64, 64, kernel_size=(3, 3), stride=(1, 1), padding=(1, 1), bias=False)),\n",
       "  ('backbone.bottom_up.res2.2.conv1',\n",
       "   Conv2d(64, 64, kernel_size=(3, 3), stride=(1, 1), padding=(1, 1), bias=False)),\n",
       "  ('backbone.bottom_up.res2.2.conv2',\n",
       "   Conv2d(64, 64, kernel_size=(3, 3), stride=(1, 1), padding=(1, 1), bias=False)),\n",
       "  ('backbone.bottom_up.res3.0.shortcut',\n",
       "   Conv2d(64, 128, kernel_size=(1, 1), stride=(2, 2), bias=False)),\n",
       "  ('backbone.bottom_up.res3.0.conv1',\n",
       "   Conv2d(64, 128, kernel_size=(3, 3), stride=(2, 2), padding=(1, 1), bias=False)),\n",
       "  ('backbone.bottom_up.res3.0.conv2',\n",
       "   Conv2d(128, 128, kernel_size=(3, 3), stride=(1, 1), padding=(1, 1), bias=False)),\n",
       "  ('backbone.bottom_up.res3.1.conv1',\n",
       "   Conv2d(128, 128, kernel_size=(3, 3), stride=(1, 1), padding=(1, 1), bias=False)),\n",
       "  ('backbone.bottom_up.res3.1.conv2',\n",
       "   Conv2d(128, 128, kernel_size=(3, 3), stride=(1, 1), padding=(1, 1), bias=False)),\n",
       "  ('backbone.bottom_up.res3.2.conv1',\n",
       "   Conv2d(128, 128, kernel_size=(3, 3), stride=(1, 1), padding=(1, 1), bias=False)),\n",
       "  ('backbone.bottom_up.res3.2.conv2',\n",
       "   Conv2d(128, 128, kernel_size=(3, 3), stride=(1, 1), padding=(1, 1), bias=False)),\n",
       "  ('backbone.bottom_up.res3.3.conv1',\n",
       "   Conv2d(128, 128, kernel_size=(3, 3), stride=(1, 1), padding=(1, 1), bias=False)),\n",
       "  ('backbone.bottom_up.res3.3.conv2',\n",
       "   Conv2d(128, 128, kernel_size=(3, 3), stride=(1, 1), padding=(1, 1), bias=False)),\n",
       "  ('backbone.bottom_up.res4.0.shortcut',\n",
       "   Conv2d(128, 256, kernel_size=(1, 1), stride=(2, 2), bias=False)),\n",
       "  ('backbone.bottom_up.res4.0.conv1',\n",
       "   Conv2d(128, 256, kernel_size=(3, 3), stride=(2, 2), padding=(1, 1), bias=False)),\n",
       "  ('backbone.bottom_up.res4.0.conv2',\n",
       "   Conv2d(256, 256, kernel_size=(3, 3), stride=(1, 1), padding=(1, 1), bias=False)),\n",
       "  ('backbone.bottom_up.res4.1.conv1',\n",
       "   Conv2d(256, 256, kernel_size=(3, 3), stride=(1, 1), padding=(1, 1), bias=False)),\n",
       "  ('backbone.bottom_up.res4.1.conv2',\n",
       "   Conv2d(256, 256, kernel_size=(3, 3), stride=(1, 1), padding=(1, 1), bias=False)),\n",
       "  ('backbone.bottom_up.res4.2.conv1',\n",
       "   Conv2d(256, 256, kernel_size=(3, 3), stride=(1, 1), padding=(1, 1), bias=False)),\n",
       "  ('backbone.bottom_up.res4.2.conv2',\n",
       "   Conv2d(256, 256, kernel_size=(3, 3), stride=(1, 1), padding=(1, 1), bias=False)),\n",
       "  ('backbone.bottom_up.res4.3.conv1',\n",
       "   Conv2d(256, 256, kernel_size=(3, 3), stride=(1, 1), padding=(1, 1), bias=False)),\n",
       "  ('backbone.bottom_up.res4.3.conv2',\n",
       "   Conv2d(256, 256, kernel_size=(3, 3), stride=(1, 1), padding=(1, 1), bias=False)),\n",
       "  ('backbone.bottom_up.res4.4.conv1',\n",
       "   Conv2d(256, 256, kernel_size=(3, 3), stride=(1, 1), padding=(1, 1), bias=False)),\n",
       "  ('backbone.bottom_up.res4.4.conv2',\n",
       "   Conv2d(256, 256, kernel_size=(3, 3), stride=(1, 1), padding=(1, 1), bias=False)),\n",
       "  ('backbone.bottom_up.res4.5.conv1',\n",
       "   Conv2d(256, 256, kernel_size=(3, 3), stride=(1, 1), padding=(1, 1), bias=False)),\n",
       "  ('backbone.bottom_up.res4.5.conv2',\n",
       "   Conv2d(256, 256, kernel_size=(3, 3), stride=(1, 1), padding=(1, 1), bias=False)),\n",
       "  ('backbone.bottom_up.res5.0.shortcut',\n",
       "   Conv2d(256, 512, kernel_size=(1, 1), stride=(2, 2), bias=False)),\n",
       "  ('backbone.bottom_up.res5.0.conv1',\n",
       "   Conv2d(256, 512, kernel_size=(3, 3), stride=(2, 2), padding=(1, 1), bias=False)),\n",
       "  ('backbone.bottom_up.res5.0.conv2',\n",
       "   Conv2d(512, 512, kernel_size=(3, 3), stride=(1, 1), padding=(1, 1), bias=False)),\n",
       "  ('backbone.bottom_up.res5.1.conv1',\n",
       "   Conv2d(512, 512, kernel_size=(3, 3), stride=(1, 1), padding=(1, 1), bias=False)),\n",
       "  ('backbone.bottom_up.res5.1.conv2',\n",
       "   Conv2d(512, 512, kernel_size=(3, 3), stride=(1, 1), padding=(1, 1), bias=False)),\n",
       "  ('backbone.bottom_up.res5.2.conv1',\n",
       "   Conv2d(512, 512, kernel_size=(3, 3), stride=(1, 1), padding=(1, 1), bias=False)),\n",
       "  ('backbone.bottom_up.res5.2.conv2',\n",
       "   Conv2d(512, 512, kernel_size=(3, 3), stride=(1, 1), padding=(1, 1), bias=False)),\n",
       "  ('proposal_generator.fcos_head.cls_tower.0',\n",
       "   Conv2d(256, 256, kernel_size=(3, 3), stride=(1, 1), padding=(1, 1))),\n",
       "  ('proposal_generator.fcos_head.cls_tower.3',\n",
       "   Conv2d(256, 256, kernel_size=(3, 3), stride=(1, 1), padding=(1, 1))),\n",
       "  ('proposal_generator.fcos_head.cls_tower.6',\n",
       "   Conv2d(256, 256, kernel_size=(3, 3), stride=(1, 1), padding=(1, 1))),\n",
       "  ('proposal_generator.fcos_head.cls_tower.9',\n",
       "   Conv2d(256, 256, kernel_size=(3, 3), stride=(1, 1), padding=(1, 1))),\n",
       "  ('proposal_generator.fcos_head.bbox_tower.0',\n",
       "   Conv2d(256, 256, kernel_size=(3, 3), stride=(1, 1), padding=(1, 1))),\n",
       "  ('proposal_generator.fcos_head.bbox_tower.3',\n",
       "   Conv2d(256, 256, kernel_size=(3, 3), stride=(1, 1), padding=(1, 1))),\n",
       "  ('proposal_generator.fcos_head.bbox_tower.6',\n",
       "   Conv2d(256, 256, kernel_size=(3, 3), stride=(1, 1), padding=(1, 1))),\n",
       "  ('proposal_generator.fcos_head.bbox_tower.9',\n",
       "   Conv2d(256, 256, kernel_size=(3, 3), stride=(1, 1), padding=(1, 1))),\n",
       "  ('proposal_generator.fcos_head.cls_logits',\n",
       "   Conv2d(256, 25, kernel_size=(3, 3), stride=(1, 1), padding=(1, 1))),\n",
       "  ('proposal_generator.fcos_head.bbox_pred',\n",
       "   Conv2d(256, 4, kernel_size=(3, 3), stride=(1, 1), padding=(1, 1))),\n",
       "  ('proposal_generator.fcos_head.ctrness',\n",
       "   Conv2d(256, 1, kernel_size=(3, 3), stride=(1, 1), padding=(1, 1))),\n",
       "  ('basis_module.refine.0.0',\n",
       "   Conv2d(256, 128, kernel_size=(3, 3), stride=(1, 1), padding=(1, 1), bias=False)),\n",
       "  ('basis_module.refine.1.0',\n",
       "   Conv2d(256, 128, kernel_size=(3, 3), stride=(1, 1), padding=(1, 1), bias=False)),\n",
       "  ('basis_module.refine.2.0',\n",
       "   Conv2d(256, 128, kernel_size=(3, 3), stride=(1, 1), padding=(1, 1), bias=False)),\n",
       "  ('basis_module.tower.0.0',\n",
       "   Conv2d(128, 128, kernel_size=(3, 3), stride=(1, 1), padding=(1, 1), bias=False)),\n",
       "  ('basis_module.tower.1.0',\n",
       "   Conv2d(128, 128, kernel_size=(3, 3), stride=(1, 1), padding=(1, 1), bias=False)),\n",
       "  ('basis_module.tower.2.0',\n",
       "   Conv2d(128, 128, kernel_size=(3, 3), stride=(1, 1), padding=(1, 1), bias=False)),\n",
       "  ('basis_module.tower.4.0',\n",
       "   Conv2d(128, 128, kernel_size=(3, 3), stride=(1, 1), padding=(1, 1), bias=False)),\n",
       "  ('basis_module.tower.5', Conv2d(128, 4, kernel_size=(1, 1), stride=(1, 1))),\n",
       "  ('top_layer',\n",
       "   Conv2d(256, 784, kernel_size=(3, 3), stride=(1, 1), padding=(1, 1)))],\n",
       " 64)"
      ]
     },
     "execution_count": 26,
     "metadata": {},
     "output_type": "execute_result"
    }
   ],
   "source": [
    "layers, len(layers)"
   ]
  },
  {
   "cell_type": "code",
   "execution_count": 53,
   "metadata": {},
   "outputs": [
    {
     "name": "stdout",
     "output_type": "stream",
     "text": [
      "backbone.fpn_lateral3 torch.Size([256, 128, 1, 1])\n",
      "backbone.fpn_output3 torch.Size([256, 256, 3, 3])\n",
      "backbone.fpn_lateral4 torch.Size([256, 256, 1, 1])\n",
      "backbone.fpn_output4 torch.Size([256, 256, 3, 3])\n",
      "backbone.fpn_lateral5 torch.Size([256, 512, 1, 1])\n",
      "backbone.fpn_output5 torch.Size([256, 256, 3, 3])\n",
      "backbone.top_block.p6 torch.Size([256, 256, 3, 3])\n",
      "backbone.top_block.p7 torch.Size([256, 256, 3, 3])\n",
      "backbone.bottom_up.stem.conv1 torch.Size([64, 3, 7, 7])\n",
      "backbone.bottom_up.res2.0.conv1 torch.Size([64, 64, 3, 3])\n",
      "2176 [0.9857460260391235, 1.1091723442077637, 0.8101006746292114, 0.9870643019676208, 0.896796703338623, 0.8329982161521912, 1.0223848819732666, 1.0172960758209229, 0.9748764038085938, 0.9343035221099854, 0.9191241264343262, 0.9442851543426514, 0.8475511074066162, 1.0968515872955322, 0.9229971766471863, 0.9177657961845398, 0.8629188537597656, 1.0093989372253418, 0.8839079141616821, 0.9854944348335266, 1.0069220066070557, 0.7975203990936279, 0.949311375617981, 0.9131847023963928, 1.033806324005127, 0.8387523889541626, 1.0169672966003418, 0.990463137626648, 0.8958725929260254, 0.9435316324234009, 1.006935954093933, 0.9650620222091675, 0.9515261650085449, 0.9049365520477295, 0.887843132019043, 0.7160719633102417, 0.9855875372886658, 0.9811469316482544, 0.9321389198303223, 0.9289417266845703, 0.8709608316421509, 1.0689997673034668, 1.0013296604156494, 0.7899949550628662, 1.0187276601791382, 1.0784680843353271, 0.9692907333374023, 0.8679453730583191, 0.9180776476860046, 0.9868367314338684, 0.9789388179779053, 0.8764094114303589, 0.8855001926422119, 0.9773366451263428, 1.022080421447754, 1.0082844495773315, 1.0079007148742676, 0.9467429518699646, 0.9126405715942383, 0.9291566610336304, 1.0158443450927734, 0.9665311574935913, 0.8843333721160889, 1.039199709892273, 0.9095758199691772, 0.9080336689949036, 0.9940574169158936, 0.9127852320671082, 0.9470360279083252, 0.9866219758987427, 1.0387341976165771, 1.0177873373031616, 0.8784330487251282, 0.9793462753295898, 0.8527880311012268, 1.0705578327178955, 0.9929499626159668, 0.9383271336555481, 1.0166772603988647, 1.0333874225616455, 0.933067262172699, 0.792560338973999, 0.8122361898422241, 0.8645702600479126, 0.9021860361099243, 0.9969258308410645, 1.024390459060669, 0.8991472721099854, 0.9119453430175781, 1.055309772491455, 1.0347585678100586, 0.9691818356513977, 0.9873847365379333, 0.9531072378158569, 0.8258556127548218, 0.8770919442176819, 1.0636417865753174, 1.0049707889556885, 0.9422918558120728, 1.0130058526992798, 0.8835393786430359, 0.977998673915863, 0.9554410576820374, 0.936992883682251, 0.9777089953422546, 0.8633450269699097, 1.006584644317627, 1.145114779472351, 0.9082077741622925, 0.803915798664093, 1.0638905763626099, 0.8050816059112549, 1.0015101432800293, 1.0198695659637451, 0.886366069316864, 0.8506770133972168, 0.8980922102928162, 1.0173287391662598, 0.9510413408279419, 1.039915680885315, 1.030250072479248, 0.8700933456420898, 1.07302987575531, 0.9321259260177612, 1.1605128049850464, 0.9082725644111633, 1.035156488418579, 0.9398592710494995, 0.9871004223823547, 0.8559908866882324, 1.1343014240264893, 1.1043833494186401, 0.9975947141647339, 0.8944990038871765, 0.9680927991867065, 0.9823912978172302, 1.0012952089309692, 0.942348301410675, 0.972929060459137, 1.1388776302337646, 0.9045068025588989, 0.9753237366676331, 0.9710352420806885, 0.9535413384437561, 1.18691086769104, 0.9630938172340393, 0.9408445358276367, 0.9090617895126343, 0.8172116279602051, 0.9668298959732056, 1.050462245941162, 0.8349964618682861, 1.0079635381698608, 0.9044322371482849, 0.9169893264770508, 0.9593729972839355, 0.9669474363327026, 1.0630252361297607, 0.91218101978302, 0.9387328624725342, 1.000846266746521, 0.9267740249633789, 1.1438121795654297, 0.8398027420043945, 0.9768851399421692, 0.902610719203949, 0.8904787302017212, 0.8257447481155396, 1.0597251653671265, 0.932074248790741, 0.8334978818893433, 0.9793727993965149, 0.9292680025100708, 0.996934711933136, 0.962289035320282, 0.9583855867385864, 0.8913410902023315, 1.048110842704773, 0.9157875776290894, 1.0575206279754639, 0.9822344183921814, 1.041871428489685, 0.941758394241333, 0.9458016157150269, 1.1272209882736206, 0.932767391204834, 0.9940577745437622, 0.7790906429290771, 0.9861323237419128, 0.9797081351280212, 1.0409107208251953, 0.9797472357749939, 0.8864381313323975, 0.9170041680335999, 0.9488769769668579, 0.9735627770423889, 0.9111967086791992, 1.0054672956466675, 0.9737340211868286, 0.954196572303772, 0.9204832315444946, 0.9213236570358276, 1.033711552619934, 0.9425137042999268, 0.8491674661636353, 0.993472695350647, 1.0324393510818481, 0.9129774570465088, 0.9793969988822937, 0.9187843799591064, 1.0458641052246094, 0.9007008671760559, 1.0467545986175537, 1.092195749282837, 0.7668558359146118, 1.0408509969711304, 0.8739062547683716, 0.925075113773346, 0.9506332874298096, 1.0367300510406494, 0.8810716271400452, 0.9766067266464233, 0.8569110631942749, 0.9657747745513916, 0.9921125173568726, 0.9451509118080139, 0.896985650062561, 0.9503052234649658, 0.9457892775535583, 1.0066810846328735, 0.9742501378059387, 0.8828717470169067, 1.1179192066192627, 0.9818317890167236, 1.0069248676300049, 0.9147970080375671, 1.0041513442993164, 0.8113300204277039, 0.983374297618866, 0.9541122317314148, 0.8838566541671753, 0.8394124507904053, 0.934167206287384, 0.96872878074646, 0.8875106573104858, 0.972673237323761, 0.9596080780029297, 1.0866307020187378, 1.0173300504684448, 0.8734917044639587, 0.8963186740875244, 0.8850631713867188, 0.8877800107002258, 1.0744978189468384, 0.9237995743751526, 0.8225971460342407, 0.9779305458068848, 0.9480962753295898, 1.001632571220398, 0.954544186592102, 0.9409315586090088, 0.9501002430915833, 0.9519768357276917, 0.9850606918334961, 0.9653872847557068, 0.9499083757400513, 0.9686530232429504, 0.9730182886123657, 0.9773949384689331, 0.9869831204414368, 0.9458907842636108, 0.9498836398124695, 0.9549756050109863, 0.958662748336792, 0.962673544883728, 0.9924056529998779, 0.9617582559585571, 0.9496716260910034, 0.9637399911880493, 0.9732592105865479, 0.9654056429862976, 0.9643641114234924, 0.9721561670303345, 0.9412665367126465, 0.9686225652694702, 0.9665391445159912, 0.9769513607025146, 0.9553695321083069, 0.9624483585357666, 0.9795563220977783, 0.9961861371994019, 0.9576340913772583, 0.9656965732574463, 0.9550570249557495, 0.9754730463027954, 0.971397340297699, 0.9924595355987549, 0.9471306204795837, 0.9665651917457581, 0.9738132953643799, 0.9818179607391357, 0.9850658178329468, 1.005014419555664, 0.9383190870285034, 0.9887052774429321, 0.997312605381012, 1.013664960861206, 0.9588323831558228, 0.9621342420578003, 0.9617224335670471, 0.9757407903671265, 0.9549909234046936, 0.9683871269226074, 0.9774390459060669, 0.999954104423523, 0.967670738697052, 0.9508752822875977, 0.9619747400283813, 0.9868573546409607, 0.985001266002655, 0.9839888215065002, 0.9803282618522644, 0.9968975782394409, 0.9641815423965454, 0.9603813290596008, 1.0042659044265747, 0.9845477342605591, 0.9532448053359985, 0.9856902360916138, 0.9424686431884766, 0.9932875037193298, 0.9451473355293274, 0.9912020564079285, 0.9778791069984436, 0.9638405442237854, 0.9788909554481506, 0.9882119297981262, 1.014100193977356, 0.9779111742973328, 0.9728450179100037, 0.9833117127418518, 0.9766227006912231, 0.9724976420402527, 0.9904131889343262, 0.9532279372215271, 0.9713951349258423, 1.003834843635559, 0.9863763451576233, 0.9555004239082336, 0.9790182113647461, 0.9472032189369202, 0.9679744839668274, 0.9737662076950073, 0.9650946855545044, 0.9565615653991699, 0.955577552318573, 0.9712719917297363, 0.9867676496505737, 0.9818238019943237, 0.9644793272018433, 0.956775963306427, 0.9870299696922302, 0.951459527015686, 0.9737981557846069, 0.9537161588668823, 0.9565176367759705, 0.980434000492096, 0.9813671112060547, 0.9722933173179626, 0.9713716506958008, 0.9772164225578308, 0.9898088574409485, 0.9757368564605713, 0.9747506380081177, 0.9717657566070557, 0.9781740307807922, 0.9994115233421326, 0.9508494734764099, 0.9533678293228149, 0.9553281664848328, 0.9675773978233337, 0.9772374629974365, 0.9646356105804443, 0.9331256151199341, 0.97685706615448, 0.9887496829032898, 0.9917771816253662, 0.9686079621315002, 0.9853466749191284, 1.0098152160644531, 0.9884787797927856, 0.9656411409378052, 0.9883472919464111, 0.9603070616722107, 0.969778299331665, 0.9713287353515625, 0.9473065137863159, 0.96750408411026, 0.9781007766723633, 0.9788578748703003, 0.9730446934700012, 0.9564125537872314, 0.993834376335144, 0.9592553377151489, 0.938232421875, 0.9909362196922302, 0.9887428879737854, 0.9479111433029175, 1.0254148244857788, 0.9792593717575073, 0.9528788924217224, 0.9906601905822754, 0.9781326651573181, 0.9709827899932861, 0.9745772480964661, 0.9253296256065369, 0.9631142020225525, 0.9584516882896423, 0.9624288082122803, 0.9403527975082397, 0.9777306318283081, 0.986258864402771, 0.9668141603469849, 0.9659832715988159, 0.9239557385444641, 0.9696740508079529, 0.9360326528549194, 0.9686917066574097, 0.953462541103363, 0.9546473622322083, 0.9441967010498047, 0.9680835604667664, 0.9724830389022827, 0.9712285399436951, 0.9781331419944763, 0.9874280691146851, 0.9660707712173462, 0.9410062432289124, 0.9562175869941711, 0.9973554611206055, 0.971585750579834, 0.9771327376365662, 0.9828201532363892, 0.9644373655319214, 0.9300993084907532, 0.9632202982902527, 0.9628627896308899, 0.9434767961502075, 0.9679397940635681, 0.9371666312217712, 0.9420272707939148, 0.9977896809577942, 0.9684625267982483, 0.9979660511016846, 0.9868512749671936, 0.9846088290214539, 0.9480698704719543, 0.9687943458557129, 0.9586192965507507, 0.9841278791427612, 0.9811725616455078, 0.9727309942245483, 0.9685795903205872, 0.994622528553009, 0.9861615896224976, 0.9575797319412231, 0.948674201965332, 1.0035077333450317, 0.9765470623970032, 0.9787720441818237, 0.9594738483428955, 0.964780330657959, 0.9904290437698364, 0.9797364473342896, 0.9579648375511169, 0.9674121141433716, 0.9439922571182251, 0.9750266671180725, 0.9693418145179749, 0.9558658599853516, 0.9776818752288818, 0.9640836715698242, 0.9717909693717957, 0.9616988301277161, 0.9395889639854431, 0.9663891792297363, 0.9943121671676636, 0.9661256074905396, 0.9801133871078491, 0.9316186904907227, 0.9581041932106018, 0.9833559989929199, 0.9485353231430054, 1.0009679794311523, 0.9806287288665771, 0.9623053073883057, 0.9886963367462158, 0.9851394295692444, 0.9475175142288208, 0.93231600522995, 0.9748011827468872, 0.9705084562301636, 0.9761998653411865, 0.9563024044036865, 1.0102553367614746, 0.9843897223472595, 0.9946425557136536, 0.9892453551292419, 0.9596565365791321, 0.9732282161712646, 0.9896360039710999, 0.9422897696495056, 0.8993040919303894, 0.916032075881958, 0.9599000811576843, 0.9285259246826172, 0.9371712803840637, 0.9519724249839783, 0.9897410273551941, 1.0417653322219849, 0.8570127487182617, 0.9224101901054382, 0.9409564137458801, 0.8594544529914856, 0.9314688444137573, 0.895372748374939, 0.8964144587516785, 0.9692326188087463, 0.9655455946922302, 0.9612928032875061, 0.9512847661972046, 0.8820223212242126, 0.9907709360122681, 0.9178140759468079, 0.9220095276832581, 0.9979560375213623, 0.8755418062210083, 0.9875866174697876, 0.8997966051101685, 1.0238102674484253, 1.0404421091079712, 0.9522643685340881, 1.0290770530700684, 1.0008869171142578, 0.9872958660125732, 0.9344279766082764, 0.8895383477210999, 1.0184886455535889, 0.9855158925056458, 0.9287582635879517, 1.0160390138626099, 0.9830689430236816, 0.9502971172332764, 0.9891775846481323, 1.051159143447876, 0.8842120170593262, 0.9201433658599854, 0.9815033674240112, 0.9300413131713867, 0.9069571495056152, 0.9056675434112549, 0.9294272661209106, 0.8498932123184204, 0.97935551404953, 0.9785081744194031, 0.9130176305770874, 0.8989723920822144, 1.0667617321014404, 0.8993052244186401, 0.9204338788986206, 0.959106981754303, 0.9807817339897156, 0.8643257021903992, 0.9208666086196899, 0.8663132786750793, 0.9163990020751953, 0.852462112903595, 0.8945701718330383, 0.9381600618362427, 1.0355149507522583, 0.9298617243766785, 0.8755409717559814, 0.9962641000747681, 1.0403330326080322, 0.8252741694450378, 1.0214135646820068, 0.9697610139846802, 0.9397000670433044, 0.9344149231910706, 0.9790374040603638, 0.9075880646705627, 1.0105987787246704, 0.9984768629074097, 0.9044620394706726, 0.9591110944747925, 0.8864074349403381, 1.0306837558746338, 0.9832652807235718, 0.8729019165039062, 1.0597622394561768, 0.9101635813713074, 0.9129123687744141, 0.9677164554595947, 0.8673697113990784, 0.9782034754753113, 0.9931744337081909, 0.855378270149231, 0.9190795421600342, 0.943362832069397, 0.934325098991394, 0.9162293076515198, 0.9685204029083252, 1.056221842765808, 0.8979485630989075, 1.040561318397522, 0.9137623310089111, 1.0230951309204102, 0.9278071522712708, 1.0021296739578247, 0.9248918890953064, 0.9303644299507141, 0.9660956263542175, 1.0385932922363281, 0.9155200719833374, 0.9235042333602905, 0.9574158787727356, 0.9836341142654419, 0.9040886163711548, 1.0184293985366821, 0.9570324420928955, 1.0200481414794922, 0.8840888738632202, 0.9090591669082642, 0.9432233572006226, 0.9227017760276794, 0.9878501296043396, 0.883389413356781, 0.9249804019927979, 0.9937075972557068, 0.9799714088439941, 0.9331071972846985, 1.0381274223327637, 0.9247043132781982, 0.9836400747299194, 0.9313167929649353, 0.9773728847503662, 0.9319208860397339, 0.9545083045959473, 0.9151540994644165, 0.9158011674880981, 0.8211133480072021, 0.9183411002159119, 0.9544696807861328, 0.9861584901809692, 0.9656681418418884, 0.95809006690979, 0.9967864155769348, 0.9478122591972351, 0.8920586109161377, 0.9426384568214417, 0.8445384502410889, 0.8669310808181763, 0.9225742220878601, 0.9063225388526917, 0.9858380556106567, 0.9600837826728821, 0.9295348525047302, 1.0528247356414795, 0.9475146532058716, 0.9491368532180786, 0.9582265615463257, 0.9636310338973999, 0.9687005281448364, 0.9764604568481445, 0.9106779098510742, 0.983421802520752, 0.9463309049606323, 0.9553467035293579, 0.8945195078849792, 0.9917208552360535, 1.0623313188552856, 0.9638267159461975, 0.9138849973678589, 0.9276382923126221, 0.9915955662727356, 0.9533675312995911, 0.9268786907196045, 0.9251928925514221, 0.9508094191551208, 1.0015332698822021, 1.0234630107879639, 0.9634053707122803, 0.929885745048523, 0.8916136026382446, 0.9455752372741699, 0.8941106796264648, 0.9504759311676025, 0.9469146728515625, 0.9358216524124146, 0.959111213684082, 0.9543581008911133, 1.0303797721862793, 0.92720627784729, 0.9012212753295898, 0.8904065489768982, 0.8961756825447083, 0.8966195583343506, 1.0480523109436035, 0.9298807382583618, 0.958951473236084, 0.8370304107666016, 0.9907670021057129, 0.8927481174468994, 0.9694509506225586, 1.0541679859161377, 0.9875680208206177, 1.0373324155807495, 0.8757396936416626, 0.9933416247367859, 0.9660067558288574, 0.9060410261154175, 0.8836228251457214, 0.9866757392883301, 0.9123954176902771, 1.0621671676635742, 0.9068773984909058, 0.9164809584617615, 0.9966317415237427, 0.9080623984336853, 1.0059971809387207, 0.950436532497406, 1.0283327102661133, 1.0288207530975342, 0.973119854927063, 0.9718822240829468, 0.9592781066894531, 0.943606972694397, 0.9758004546165466, 0.9361159205436707, 0.9780229330062866, 0.9076305031776428, 0.9392043352127075, 0.9968118071556091, 0.9695706963539124, 0.895428478717804, 0.9127925038337708, 1.0648725032806396, 0.9659346342086792, 0.8845146894454956, 0.8764048218727112, 0.9159149527549744, 1.0588091611862183, 0.8465052843093872, 0.9792804718017578, 0.9973697066307068, 0.9405794143676758, 0.9309138059616089, 0.9256484508514404, 0.9722328186035156, 1.0248440504074097, 0.9815480709075928, 0.972721517086029, 0.9268086552619934, 0.9158470034599304, 0.9179336428642273, 0.981248676776886, 1.0321853160858154, 1.0468604564666748, 0.964756965637207, 0.9785474538803101, 0.952211320400238, 0.972165584564209, 0.9752002954483032, 0.9746244549751282, 0.9651290774345398, 0.9621806144714355, 0.9409897923469543, 0.9645706415176392, 0.9515999555587769, 0.9577345848083496, 0.9313452839851379, 0.957905650138855, 0.952250599861145, 0.9477470517158508, 0.9371732473373413, 0.9704293608665466, 0.9556505680084229, 0.9516614675521851, 0.9796625971794128, 0.9807185530662537, 0.9989858865737915, 0.975830078125, 0.9612659215927124, 0.9384291172027588, 0.9849019050598145, 0.9407564401626587, 0.9880684614181519, 0.9690348505973816, 0.9511816501617432, 1.0002453327178955, 0.9521757364273071, 0.9659578800201416, 0.9752471446990967, 0.9686033129692078, 0.9338966608047485, 0.9538465142250061, 0.9046175479888916, 0.9601753950119019, 0.9698532819747925, 0.9655441045761108, 0.9680243730545044, 0.9494443535804749, 0.9670042395591736, 0.947289228439331, 0.9623822569847107, 0.9745268821716309, 0.950976550579071, 0.9454696774482727, 0.9931929707527161, 0.9468117952346802, 0.9543012380599976, 0.9477279186248779, 0.9799763560295105, 0.9371220469474792, 0.9770184755325317, 0.9197742938995361, 0.926773190498352, 0.9854848384857178, 0.9614397287368774, 0.9854478240013123, 0.9443483948707581, 0.9843983054161072, 0.936556875705719, 0.9690771698951721, 0.9817361831665039, 0.9749630689620972, 0.9713147878646851, 0.9599210023880005, 0.9611681699752808, 0.9787609577178955, 0.9608190059661865, 0.9431569576263428, 0.9868558049201965, 0.9404371976852417, 0.9960721135139465, 0.9783909320831299, 0.9754819273948669, 0.9849691987037659, 0.9624430537223816, 0.9723630547523499, 0.9781655073165894, 0.9876059293746948, 0.9544857144355774, 0.9625891447067261, 0.9484320878982544, 1.0016651153564453, 0.9421045780181885, 0.9505190849304199, 0.9823495149612427, 0.9802508354187012, 0.9504194855690002, 0.9498592019081116, 0.9497522711753845, 0.9881736040115356, 0.9325557351112366, 0.9725340604782104, 0.9493074417114258, 0.9645743370056152, 0.9563985466957092, 0.9786624908447266, 1.0090678930282593, 0.950151264667511, 0.9701340794563293, 0.9632320404052734, 0.9886852502822876, 0.9680871963500977, 0.9696979522705078, 0.9530874490737915, 0.983486533164978, 0.9428130388259888, 0.9922913908958435, 0.9819269180297852, 0.9681170582771301, 0.9413090944290161, 0.9622379541397095, 0.9483286142349243, 0.964811384677887, 0.971747636795044, 0.9555578231811523, 0.9545396566390991, 0.9449416995048523, 0.96058189868927, 0.9500158429145813, 0.9650390148162842, 0.9707741737365723, 0.958855926990509, 0.9761994481086731, 0.9655042290687561, 0.9728475213050842, 0.9828006029129028, 0.9581801295280457, 0.9521704316139221, 0.9692392349243164, 0.9583032131195068, 0.9811594486236572, 0.9853063821792603, 0.9926615357398987, 0.9925750494003296, 0.9338952302932739, 0.9616846442222595, 0.9778943061828613, 0.9534985423088074, 0.9377803206443787, 0.9825685024261475, 0.963524341583252, 0.9744970798492432, 0.9432641267776489, 0.9518505930900574, 0.9779021739959717, 0.9548608660697937, 0.9947892427444458, 0.9669948816299438, 0.9804239273071289, 0.9779012203216553, 0.9283386468887329, 0.9562867879867554, 0.9675001502037048, 0.9741582274436951, 0.9541875123977661, 0.9305213689804077, 0.9732815027236938, 0.9556989669799805, 0.960013210773468, 0.9712958335876465, 0.958777129650116, 0.9796974062919617, 0.9359023571014404, 0.9524770379066467, 0.9534505009651184, 0.961445152759552, 0.9375133514404297, 0.9499682188034058, 0.9621433019638062, 0.9479957818984985, 0.9337971210479736, 0.9433262348175049, 0.9520266652107239, 0.9733288288116455, 0.9425488710403442, 0.9765923023223877, 0.9771360158920288, 0.9732199907302856, 0.9755595922470093, 0.9489124417304993, 0.9601962566375732, 0.9589691162109375, 0.9603321552276611, 0.9921951293945312, 0.9538530707359314, 0.9233272075653076, 0.9697191715240479, 0.9822921752929688, 1.0013762712478638, 0.9786143898963928, 0.9802438020706177, 0.9527933597564697, 0.9750440716743469, 0.9801780581474304, 0.978259801864624, 0.9737533330917358, 0.958102285861969, 0.9835726022720337, 0.9634257555007935, 0.9543009400367737, 0.9674125909805298, 0.9459938406944275, 0.98436439037323, 0.9768458008766174, 0.9827146530151367, 0.9668355584144592, 0.9518370032310486, 0.9753422737121582, 0.9692171216011047, 0.9635844826698303, 0.964232325553894, 0.961729109287262, 0.9588971734046936, 0.9425061941146851, 0.9449653029441833, 0.9275442957878113, 0.9638498425483704, 0.984566330909729, 0.9535920023918152, 0.9610055088996887, 0.9683445692062378, 0.9524348974227905, 0.962688148021698, 0.9551646709442139, 0.9311564564704895, 0.9623780250549316, 0.9202781319618225, 0.9324691295623779, 0.9690876603126526, 0.9720321893692017, 0.9608174562454224, 0.9980812072753906, 0.9869136810302734, 0.9546512961387634, 0.9709124565124512, 0.9625481963157654, 0.9723367691040039, 0.9606494903564453, 0.9492560029029846, 0.9815730452537537, 0.9591219425201416, 0.947526216506958, 0.9748547077178955, 0.9819573163986206, 0.9759809970855713, 0.993453860282898, 0.9705396294593811, 0.9622421264648438, 0.9452847242355347, 0.9835554361343384, 1.006280541419983, 0.9627715349197388, 0.9519941210746765, 1.0274896621704102, 0.991990327835083, 0.973610520362854, 0.993630588054657, 1.0031039714813232, 0.9419739842414856, 0.9308781623840332, 1.0033683776855469, 0.9521100521087646, 0.9276893734931946, 0.8755731582641602, 0.9782282710075378, 0.9309321641921997, 1.0363128185272217, 0.9585002064704895, 0.9779555201530457, 0.9255790710449219, 0.930425763130188, 0.9642019271850586, 0.920754075050354, 0.9971067309379578, 0.9656322598457336, 0.993498682975769, 0.951479434967041, 0.9739120602607727, 0.9641537070274353, 0.9972555637359619, 0.9530932307243347, 1.006105661392212, 0.9930344820022583, 0.9934900403022766, 0.9968208074569702, 0.9453961253166199, 0.9905169010162354, 1.0177892446517944, 0.9892221093177795, 0.9694316387176514, 0.9634945392608643, 0.9509140253067017, 0.9907364845275879, 0.9371252059936523, 0.9429917335510254, 0.9655592441558838, 0.9524370431900024, 0.961124062538147, 0.9705976247787476, 0.9280887842178345, 0.8759815692901611, 0.9636141061782837, 0.9027290344238281, 0.9326993823051453, 0.9065984487533569, 0.971297025680542, 1.017690896987915, 0.9383798837661743, 1.0403457880020142, 0.9164454340934753, 0.9949742555618286, 0.9041946530342102, 0.9434741735458374, 0.9271959066390991, 0.9490286111831665, 0.9427680969238281, 0.9285010695457458, 0.9530020356178284, 0.9281257390975952, 0.9622825384140015, 0.9715054631233215, 0.903243899345398, 0.9888540506362915, 0.9633583426475525, 0.9113936424255371, 0.9759801626205444, 0.9558150172233582, 0.9747318029403687, 0.9532579183578491, 0.9268350601196289, 0.9756293296813965, 0.9455739855766296, 0.9318498969078064, 0.9647502303123474, 0.9602391123771667, 0.9193037152290344, 1.0029863119125366, 1.0169904232025146, 0.9420264959335327, 0.966881513595581, 0.948576807975769, 0.9453142285346985, 0.9715003967285156, 0.9160866737365723, 0.9065120816230774, 1.00002920627594, 0.9748287796974182, 0.9222392439842224, 0.9571987390518188, 0.9595078825950623, 0.9588833451271057, 0.8674907684326172, 1.0136486291885376, 0.9405163526535034, 1.045245885848999, 0.9122800230979919, 0.9812569618225098, 0.9809628129005432, 0.9654724597930908, 0.9615693092346191, 0.9506775140762329, 0.9600992202758789, 0.9712311625480652, 0.952907145023346, 0.9943521022796631, 0.9325547218322754, 0.9759371280670166, 1.0041747093200684, 0.9902272820472717, 0.9107634425163269, 1.0098956823349, 0.989104151725769, 0.9577775001525879, 0.9145228266716003, 1.0130966901779175, 0.9312788248062134, 0.9673905372619629, 0.9289125204086304, 0.9693960547447205, 0.9631169438362122, 0.9142515659332275, 0.8919579982757568, 0.9889622330665588, 1.0288982391357422, 0.9622170925140381, 0.9532022476196289, 1.012137770652771, 0.9475347399711609, 0.9036793112754822, 0.9349997043609619, 0.9578101634979248, 0.9407564997673035, 0.9643977880477905, 0.9710489511489868, 0.8775128722190857, 1.0136876106262207, 0.9686731696128845, 0.9779424667358398, 0.9811270833015442, 0.9691063761711121, 0.9918251037597656, 0.9504495859146118, 0.9442728757858276, 0.913323163986206, 1.0069828033447266, 1.0039329528808594, 0.9475357532501221, 0.9702680110931396, 0.9491927623748779, 0.9393050670623779, 0.9588995575904846, 0.9713128209114075, 0.9764745831489563, 0.9442249536514282, 1.0205893516540527, 0.9778068661689758, 0.948727011680603, 0.9567503333091736, 0.9987351894378662, 0.9702315926551819, 0.9287387132644653, 0.9962263107299805, 0.9038209915161133, 0.9597066044807434, 0.97220379114151, 0.903061032295227, 1.0181878805160522, 0.9819112420082092, 1.0197806358337402, 0.9191675186157227, 0.95232093334198, 0.9791516661643982, 0.9760079979896545, 0.9775547385215759, 0.9432275295257568, 0.9251903295516968, 0.8967673778533936, 0.995032012462616, 0.9433430433273315, 0.9784600138664246, 0.9464397430419922, 0.9504581093788147, 0.9580086469650269, 0.9976820945739746, 0.9521207809448242, 0.9516810178756714, 0.9917647838592529, 0.9145686030387878, 0.9279926419258118, 0.9101975560188293, 0.9641836881637573, 0.9885437488555908, 0.8879034519195557, 0.9094124436378479, 0.9349856972694397, 0.961272656917572, 0.930597186088562, 0.9489938020706177, 0.9864212274551392, 0.9193125367164612, 0.920846164226532, 0.9324249029159546, 0.9694907069206238, 0.9634978175163269, 0.9030622839927673, 0.9762123823165894, 0.9455902576446533, 0.9548088312149048, 0.9308622479438782, 0.936729907989502, 1.010156512260437, 1.0123963356018066, 0.9336472749710083, 1.0055861473083496, 0.9245226383209229, 0.9893160462379456, 0.9436277151107788, 0.8726515173912048, 1.045859694480896, 0.9644024968147278, 0.9919447898864746, 0.957963228225708, 0.9875193238258362, 0.8525240421295166, 0.9346810579299927, 0.9803071022033691, 0.9780850410461426, 0.9471898078918457, 0.9300692081451416, 0.9657281041145325, 0.9243306517601013, 0.9522085189819336, 0.917715311050415, 0.9260388016700745, 0.9577387571334839, 1.0133126974105835, 0.9735769033432007, 1.048452615737915, 0.9199069738388062, 1.033484697341919, 0.9380820989608765, 0.9240090847015381, 0.9593244194984436, 0.987030029296875, 0.9769444465637207, 0.8928174376487732, 0.9430989027023315, 0.9694717526435852, 0.9746121764183044, 0.9604442119598389, 0.9439890384674072, 0.933220386505127, 0.9442613124847412, 0.9588726758956909, 0.948480486869812, 0.9537662863731384, 0.9733107089996338, 0.9600306749343872, 0.9763452410697937, 0.9517214298248291, 0.9764943718910217, 0.9653117656707764, 0.9370227456092834, 0.9706997871398926, 0.9592913389205933, 0.9746193885803223, 0.9655734300613403, 0.9758975505828857, 0.9895920157432556, 0.9295791387557983, 0.9637196063995361, 0.9582157135009766, 0.9464366436004639, 0.9557709693908691, 0.9803690314292908, 0.9569281339645386, 0.9804839491844177, 0.9768438339233398, 0.9640633463859558, 0.9735037684440613, 0.9710243940353394, 0.9489482045173645, 0.9639812111854553, 0.9656880497932434, 0.960067868232727, 0.9899005889892578, 0.9312849044799805, 0.9705760478973389, 0.9370747208595276, 0.9627116322517395, 0.968413770198822, 0.9829767942428589, 0.9397138357162476, 0.968604326248169, 0.967309832572937, 0.976384699344635, 0.9644410610198975, 0.9614804983139038, 0.9518139958381653, 0.9650033712387085, 0.9567866325378418, 0.9726654291152954, 0.990845799446106, 0.9647770524024963, 0.9486009478569031, 0.964870810508728, 0.9671570658683777, 0.9527322053909302, 0.9663028120994568, 0.9408793449401855, 0.95419842004776, 0.9710276126861572, 0.9552439451217651, 0.9988914728164673, 0.9633805751800537, 0.9303970336914062, 0.966002345085144, 0.9473084211349487, 0.9413264393806458, 0.9574328660964966, 0.9581764936447144, 0.9743744134902954, 0.9590344429016113, 0.9653717279434204, 0.9906919598579407, 0.9540398120880127, 0.9486437439918518, 0.9423123598098755, 0.9649640321731567, 0.9637595415115356, 0.9519358277320862, 0.9744496941566467, 0.9991915225982666, 0.9739643931388855, 0.9790708422660828, 0.9291979074478149, 0.9560890793800354, 0.9791615605354309, 0.9611384868621826, 0.9675592184066772, 0.9711561799049377, 0.9819745421409607, 0.9440864324569702, 0.9576504230499268, 0.9953180551528931, 0.9556124210357666, 0.9910900592803955, 1.0000969171524048, 0.944144606590271, 0.9009431004524231, 0.9606205821037292, 0.9409717321395874, 0.9581876397132874, 0.9690859317779541, 0.9641537666320801, 0.9624720215797424, 0.9652185440063477, 0.9842597246170044, 0.9760122895240784, 0.9617494940757751, 0.9679275751113892, 0.9486982822418213, 0.958021879196167, 0.9848111867904663, 0.9656474590301514, 0.9659062623977661, 0.9536665678024292, 0.923210620880127, 0.9633150100708008, 0.929771900177002, 0.951175332069397, 0.9566881656646729, 0.979613721370697, 0.9930619597434998, 0.9460098147392273, 0.9645696878433228, 0.9509961605072021, 0.9599665403366089, 0.9523763656616211, 1.0078107118606567, 0.9246500730514526, 0.9404429793357849, 0.9982568025588989, 0.9369765520095825, 0.9535729885101318, 0.9587210416793823, 0.921669065952301, 0.9845336675643921, 0.9686399698257446, 0.9506250619888306, 0.9538103342056274, 0.9713895916938782, 0.979783296585083, 0.9522992968559265, 0.9522650241851807, 0.9506645202636719, 0.9741687774658203, 1.0020664930343628, 0.9753425121307373, 0.9926028847694397, 0.9751842021942139, 0.9349989295005798, 0.9715601205825806, 0.9443963766098022, 0.9352169036865234, 0.9489712715148926, 0.9503127932548523, 0.9607359766960144, 0.9824899435043335, 0.9471819400787354, 0.9605112075805664, 0.9783041477203369, 0.9804991483688354, 0.9541443586349487, 0.9837638139724731, 0.9854129552841187, 0.9587821960449219, 0.9559304714202881, 0.9817888736724854, 0.9687075018882751, 0.9306579828262329, 0.9728044867515564, 0.956493079662323, 0.9646975994110107, 0.9430895447731018, 0.9479742050170898, 0.9556533694267273, 0.9601708650588989, 0.9426088929176331, 0.9548447728157043, 0.9535893201828003, 0.9581113457679749, 0.958895206451416, 0.9579071402549744, 0.9420221447944641, 0.9743775129318237, 0.9810482263565063, 0.9492806792259216, 0.9936883449554443, 0.9470834732055664, 0.9675438404083252, 0.9835262298583984, 0.9588565826416016, 0.963099479675293, 0.9873485565185547, 0.9472360610961914, 0.981781542301178, 0.946453332901001, 0.9713237285614014, 0.9552837610244751, 0.9399203062057495, 0.9796155691146851, 0.9582222104072571, 0.9913349747657776, 0.9357308745384216, 0.9540679454803467, 0.9647611975669861, 0.9604461789131165, 0.9572563767433167, 0.9664320945739746, 0.9852045774459839, 0.9745182991027832, 0.960249662399292, 0.9659641981124878, 0.9326704740524292, 0.9809858798980713, 0.9669840931892395, 0.982231080532074, 0.9345152378082275, 0.9890909194946289, 0.9325338006019592, 0.9818533062934875, 0.9659371972084045, 0.9458765983581543, 0.9482780694961548, 0.962315559387207, 0.968848466873169, 0.9267449378967285, 0.9378065466880798, 0.9649024605751038, 1.0029990673065186, 0.9516539573669434, 0.944966733455658, 0.9948473572731018, 0.9279155731201172, 0.9553177356719971, 0.9708300828933716, 0.9288257360458374, 0.9415324926376343, 0.9492113590240479, 0.948644757270813, 0.953072190284729, 0.9837504625320435, 0.9857784509658813, 0.9664963483810425, 0.9950714111328125, 0.9686862230300903, 0.9353405833244324, 0.9312236905097961, 0.932543933391571, 0.931563675403595, 0.9654144048690796, 0.9423142671585083, 0.9610545039176941, 0.9490254521369934, 0.9513729810714722, 0.9500854015350342, 0.9120420813560486, 0.9946187138557434, 0.9729020595550537, 0.9497674703598022, 0.9509677290916443, 0.9361137747764587, 0.9527450203895569, 0.9218456745147705, 0.9316954612731934, 0.9746488332748413, 0.9928816556930542, 0.9626129865646362, 0.9249331951141357, 0.9316931366920471, 0.959476113319397, 0.9511563777923584, 0.9649918675422668, 0.9389320611953735, 0.9330391883850098, 0.9690374732017517, 0.964484691619873, 0.9516817331314087, 0.9701216816902161, 0.941291868686676, 0.9604552984237671, 0.9309505820274353, 0.944134533405304, 0.9823904633522034, 0.9613372087478638, 0.9165011048316956, 0.956537663936615, 0.9673970937728882, 0.9514332413673401, 0.9417134523391724, 0.9502265453338623, 0.9467296600341797, 0.9691874980926514, 0.9450480937957764, 0.9445167183876038, 0.9715678095817566, 0.9846054315567017, 0.9955278635025024, 0.9790017008781433, 0.9365063905715942, 0.9837707281112671, 0.9682384729385376, 0.9579994678497314, 0.9805921316146851, 0.9732426404953003, 0.9287554025650024, 0.926530122756958, 0.9625509977340698, 0.9594778418540955, 0.9475269317626953, 0.9384023547172546, 0.9509328603744507, 0.9414101839065552, 0.9269534349441528, 0.9790507555007935, 0.9544505476951599, 0.9530063271522522, 0.9547480344772339, 0.9707863330841064, 0.9599668383598328, 0.9832066297531128, 0.9677795767784119, 0.9677087068557739, 0.9605247974395752, 0.9825320243835449, 0.9484553933143616, 0.9697142839431763, 0.9863002896308899, 0.9486180543899536, 0.9643477201461792, 0.9429417252540588, 0.9805196523666382, 0.9646329879760742, 0.9537774324417114, 0.937079131603241, 0.9410408735275269, 0.9403368234634399, 1.0011571645736694, 0.9553795456886292, 0.9345204830169678, 0.965970516204834, 0.9935264587402344, 0.9888483285903931, 0.9635635018348694, 0.9652155041694641, 0.9809394478797913, 0.9926016926765442, 0.9567700028419495, 0.9163208603858948, 0.9796314239501953, 0.9267107844352722, 0.9867732524871826, 0.958387017250061, 0.9553990364074707, 0.976253867149353, 0.9647669196128845, 0.9590374231338501, 0.9330962300300598, 0.9593472480773926, 0.9650778770446777, 0.9408645033836365, 0.9619219303131104, 0.9441491365432739, 0.9487266540527344, 0.9474942684173584, 0.9327425956726074, 0.9619361162185669, 0.929705798625946, 0.9523211717605591, 0.9597742557525635, 0.9567124843597412, 0.9448078870773315, 0.9331516623497009, 0.942506730556488, 0.9674416184425354, 0.9641324281692505, 0.956524670124054, 0.9762172698974609, 1.0006775856018066, 0.9651086926460266, 0.979619026184082, 0.9362199306488037, 0.9558824300765991, 0.9711151123046875, 0.9415009021759033, 0.9741827249526978, 0.988804280757904, 0.9792157411575317, 0.9357490539550781, 0.9288208484649658, 0.9569793343544006, 0.9423438310623169, 0.9811342358589172, 0.9597266912460327, 0.9749877452850342, 0.9581339359283447, 0.9345770478248596, 0.9857887625694275, 0.9799008369445801, 0.9696433544158936, 0.9520450234413147, 0.9603301286697388, 0.9710115790367126, 0.9530665278434753, 0.954071581363678, 0.9419503211975098, 0.9825859069824219, 0.9900888204574585, 0.9693225026130676, 0.9665178060531616, 0.9580075740814209, 0.9291409254074097, 0.9623255729675293, 0.960119903087616, 0.9388487339019775, 0.9513050317764282, 0.944767415523529, 0.9405100345611572, 0.9583588242530823, 0.9681910276412964, 0.977291464805603, 0.9332605600357056, 0.9474923014640808, 0.9795677065849304, 0.9868972301483154, 0.9933235049247742, 0.9499146938323975, 0.9475548267364502, 0.9267664551734924, 0.9488824009895325, 0.9375004172325134, 0.9273096323013306, 0.9440006017684937, 0.9733336567878723, 0.9313136339187622, 0.979455292224884, 0.9461926221847534, 0.9756296873092651, 0.9292661547660828, 0.949067234992981, 0.961702823638916, 0.9716466665267944, 0.9417256116867065, 0.9905112385749817, 0.9450947642326355, 0.9582809209823608, 0.9688286185264587, 0.9725756645202637, 0.952193558216095, 0.9540270566940308, 0.9516760110855103, 0.9959951639175415, 0.9640807509422302, 0.9583448171615601, 0.9665094614028931, 0.9406366944313049, 0.9637128114700317, 0.957431972026825, 0.9176256656646729, 0.9625244140625, 0.946703314781189, 0.9580135345458984, 0.9721617698669434, 0.9500051736831665, 0.9772139191627502, 0.9521171450614929, 0.9707661867141724, 0.9497629404067993, 0.9955142736434937, 0.9671766757965088, 0.9496981501579285, 1.0024662017822266, 0.9745662212371826, 0.9744604229927063, 0.940829336643219, 0.9457670450210571, 0.9541122913360596, 0.9346559643745422, 0.952173113822937, 0.974380612373352, 0.9327899813652039, 0.9710569381713867, 0.9281544089317322, 0.9387502670288086, 0.9442755579948425, 0.9521798491477966, 0.9451255798339844, 0.9672901630401611, 0.9795944690704346, 0.9513218402862549, 0.9514209628105164, 0.9568628072738647, 0.9508711695671082, 0.9719346165657043, 0.9398630261421204, 0.9365493655204773, 0.966683030128479, 0.9268267154693604, 0.969080924987793, 0.980037271976471, 0.9482128620147705, 0.9658013582229614, 0.9392114877700806, 0.9249621629714966, 0.9402936697006226, 0.9810940623283386, 0.9627972841262817, 0.9557399749755859, 0.9749025106430054, 0.9464761018753052, 0.9207057952880859, 0.9458192586898804, 0.9662525057792664, 0.9774297475814819, 0.9462075233459473, 0.977111279964447, 0.9679532647132874, 0.9585570096969604, 0.9078906774520874, 0.9498482942581177, 0.9762758016586304, 0.9655869603157043, 0.9520344734191895, 0.9448546171188354, 0.9427269697189331, 0.963151216506958, 0.9890623092651367, 0.9834113121032715, 0.9377980828285217, 0.978545606136322, 0.9756327867507935, 0.9691009521484375, 0.9306740760803223, 0.9611987471580505, 0.9448301196098328, 0.9731003046035767, 0.9454566240310669, 0.9554439187049866, 0.9433935880661011, 0.9543790221214294, 0.9703860282897949, 0.9544233679771423, 0.9501277804374695, 0.9559706449508667, 0.9471690058708191, 0.9650918245315552, 0.9496034383773804, 0.9378701448440552, 0.9658716917037964, 0.9710369110107422, 0.9518783092498779, 0.9721726179122925, 0.9568465948104858, 0.9420183300971985, 0.9431193470954895, 0.9552249908447266, 0.9340870380401611, 0.96268630027771, 0.9316779375076294, 0.9517448544502258, 0.9423058032989502, 0.9092389941215515, 0.9917291402816772, 0.9718644022941589, 0.959210216999054, 0.9362046122550964, 0.9456391334533691, 0.9530211687088013, 0.960813045501709, 0.9701859951019287, 0.9558312296867371, 0.9232364892959595, 0.9604129791259766, 0.9519824981689453, 0.9821376800537109, 0.9442048668861389, 0.9703894853591919, 0.9603924751281738, 0.9598658084869385, 0.95122891664505, 0.9251148104667664, 0.9621236324310303, 0.9676110744476318, 0.9307810068130493, 0.9388818740844727, 0.9628437757492065, 0.9836562275886536, 0.9634890556335449, 0.9444915652275085, 0.9454769492149353, 0.9504289031028748, 0.9504236578941345, 0.9718484878540039, 0.9363143444061279, 0.9356721639633179, 0.9259623289108276, 0.9482893943786621, 0.9952378273010254, 0.9463149905204773, 0.9540701508522034, 0.9610165357589722, 0.9436339139938354, 0.9981151223182678, 0.9500590562820435, 0.9389464855194092, 0.9644901156425476, 0.9569126963615417, 0.9711486101150513, 0.966356635093689, 0.9190748929977417, 0.980383038520813, 0.9478334188461304, 0.9438585042953491, 0.9643082618713379, 0.9590619206428528, 0.9909282922744751, 0.9498358368873596, 0.9830910563468933, 0.9713451862335205, 0.9653494358062744, 0.9414688348770142, 0.9732441902160645, 0.9338173270225525, 0.9339476823806763, 0.9837392568588257, 0.9444276094436646, 0.98488450050354, 0.9348021149635315, 0.929744303226471, 0.9647412896156311, 0.9511508941650391, 0.9512872695922852, 0.9748199582099915, 0.9692174196243286, 0.9144867658615112, 0.9622280597686768, 0.9745761156082153, 0.9688687920570374, 0.9468152523040771, 0.9519321322441101, 0.9516004920005798, 0.9190488457679749, 0.9184769988059998, 0.9527159333229065, 0.9220030903816223, 0.9348922371864319, 0.9725227355957031, 0.9787906408309937, 0.9578709006309509, 0.9682886600494385, 0.9731820821762085, 0.9466136693954468, 0.9645346403121948, 0.9778482913970947, 0.9559991955757141, 0.9609178900718689, 0.9746594429016113, 0.9583839774131775, 0.9369374513626099, 0.9633779525756836, 0.941312849521637, 0.9402801990509033, 0.9181220531463623, 0.9329547882080078, 0.9755287170410156, 0.9347238540649414, 0.9702113270759583, 0.9434561133384705, 0.9356743693351746, 0.9791656732559204, 0.9903171062469482, 0.9538221955299377, 0.9690729975700378, 0.9280674457550049, 0.9904364347457886, 0.9465004205703735, 0.9653516411781311, 0.9383505582809448, 0.9691872596740723, 0.9686537981033325, 0.9976781010627747, 0.9433841705322266, 0.9468674063682556, 0.9845244884490967, 0.973258376121521, 0.9746615886688232, 0.981972873210907, 0.9643166065216064, 0.951370894908905, 0.9393061399459839, 0.9501643776893616, 0.8930057287216187, 0.9350405335426331, 0.9345290064811707, 0.9667887687683105, 0.942941427230835, 0.9355831146240234, 0.9686373472213745, 0.9519410729408264, 0.9400942325592041, 0.9863125681877136, 0.9665628671646118, 1.0043697357177734, 0.9404467344284058, 0.9481279850006104, 0.9737081527709961, 0.9542482495307922, 0.9481140971183777, 0.957374095916748, 0.9508028030395508, 0.9786337614059448, 0.9462959170341492, 0.966460108757019, 0.9571167230606079, 0.950612485408783, 0.9417798519134521, 0.9597733020782471, 0.9648381471633911, 0.9509117007255554, 0.9672863483428955, 0.9592139720916748, 0.9761496782302856, 0.9562587141990662, 0.960665225982666, 0.9686752557754517, 0.9327041506767273, 0.9863569140434265, 0.9590317010879517, 0.9437826871871948, 0.9686532020568848, 0.9016737937927246, 0.9543225169181824, 0.9600972533226013, 0.9789373874664307, 0.9135347604751587, 0.9543761014938354, 0.9598616361618042, 0.9535875916481018, 0.9757452011108398, 0.9501698017120361, 0.9971562623977661, 0.9572136998176575, 0.9711187481880188, 0.9602750539779663, 0.9644009470939636, 0.9525117874145508, 0.9394636154174805, 0.9634001851081848, 0.968305766582489, 0.9807266592979431, 0.9521588683128357, 0.93978351354599, 0.942015528678894, 0.9026633501052856, 0.9661024212837219, 0.9456554651260376, 0.9822091460227966, 0.9330017566680908, 0.9562017321586609, 0.9357270002365112, 0.9422817826271057, 0.9561828970909119, 0.9709140062332153, 0.1042446568608284, 0.07442761212587357, 0.1234954223036766, 0.10900723934173584, 0.2815644443035126, 0.15801110863685608, 0.15977036952972412, 0.13010504841804504, 0.10637537389993668, 0.08684803545475006, 0.10504066944122314, 0.11675140261650085, 0.3493659794330597, 0.11785277724266052, 0.11983931064605713, 0.123288594186306, 0.38722115755081177, 0.14616116881370544, 0.11271736025810242, 0.3132334053516388, 0.12876203656196594, 0.1762543022632599, 0.15067417919635773, 0.14982442557811737, 0.1275864839553833, 0.10764361917972565, 0.15495683252811432, 0.1332072764635086, 0.11530788242816925, 0.12455976009368896, 0.14866548776626587, 0.16091829538345337, 0.15445750951766968, 0.1633484810590744, 0.2327512800693512, 0.1150541752576828, 0.13565652072429657, 0.12046422064304352, 0.10299358516931534, 0.10947898775339127, 0.15841279923915863, 0.14643532037734985, 0.1903688609600067, 0.09996955841779709, 0.13071487843990326, 0.1039743721485138, 0.11638979613780975, 0.1630193293094635, 0.11611520498991013, 0.11363980174064636, 0.14823944866657257, 0.13418689370155334, 0.1273469626903534, 0.19675102829933167, 0.1213831827044487, 0.11260659992694855, 0.145110622048378, 0.11087536811828613, 0.10008347779512405, 0.12657508254051208, 0.11210015416145325, 0.13106471300125122, 0.11833886802196503, 0.15169286727905273, 1.9218595027923584, 2.0092825889587402, 1.9854459762573242, 1.828953504562378, 2.195892810821533, 1.9968085289001465, 1.754225492477417, 2.0034019947052, 1.9600132703781128, 2.0391924381256104, 1.9847962856292725, 2.162459373474121, 2.0272607803344727, 1.912691593170166, 2.1411616802215576, 1.9488210678100586, 1.9497621059417725, 1.8931269645690918, 2.2200937271118164, 1.8368302583694458, 1.6098297834396362, 2.050239324569702, 2.0790467262268066, 1.8833435773849487, 1.8892014026641846, 2.0258712768554688, 1.8140419721603394, 2.219050884246826, 1.8576195240020752, 2.1379802227020264, 1.960848331451416, 1.8149751424789429, 1.871321678161621, 1.8767521381378174, 2.0351619720458984, 2.0024254322052, 1.9748620986938477, 1.8891438245773315, 1.923132061958313, 1.8582282066345215, 2.052467107772827, 2.0076420307159424, 2.046473503112793, 1.9601445198059082, 1.8888219594955444, 2.056340217590332, 1.83243989944458, 2.2321836948394775, 1.8099541664123535, 1.907593846321106, 2.127941846847534, 2.0642552375793457, 1.7800756692886353, 1.8153852224349976, 2.1891469955444336, 2.035922050476074, 2.0519394874572754, 1.8856627941131592, 1.7870564460754395, 1.950202226638794, 2.0164756774902344, 1.962920904159546, 1.9942803382873535, 1.813576340675354]\n"
     ]
    }
   ],
   "source": [
    "all = []\n",
    "for name, m in layers[:10]:\n",
    "    print(name, m.weight.shape)\n",
    "    num = torch.sum(torch.square(m.weight),dim=(1,2,3)).view(-1).tolist()\n",
    "    all.extend(num)\n",
    "print(len(all),all)\n",
    "    # print(num)\n",
    "    # all = []\n",
    "    # for layer in m.weight:\n",
    "    #     # print(layer.shape)\n",
    "    #     element_squared = [e.item()**2 for e in layer.view(-1)]\n",
    "    #     element_squared = sum(element_squared)\n",
    "    #     all.append(element_squared)\n",
    "\n",
    "    # print(len(all), all)\n",
    "\n"
   ]
  },
  {
   "cell_type": "code",
   "execution_count": 70,
   "metadata": {},
   "outputs": [
    {
     "data": {
      "text/plain": [
       "<generator object Module.named_children at 0x7f634d63cd60>"
      ]
     },
     "execution_count": 70,
     "metadata": {},
     "output_type": "execute_result"
    }
   ],
   "source": [
    "model.backbone"
   ]
  },
  {
   "cell_type": "code",
   "execution_count": 71,
   "metadata": {},
   "outputs": [
    {
     "ename": "TypeError",
     "evalue": "cannot unpack non-iterable BlendMask object",
     "output_type": "error",
     "traceback": [
      "\u001b[0;31m---------------------------------------------------------------------------\u001b[0m",
      "\u001b[0;31mTypeError\u001b[0m                                 Traceback (most recent call last)",
      "Cell \u001b[0;32mIn[71], line 1\u001b[0m\n\u001b[0;32m----> 1\u001b[0m \u001b[38;5;28;01mfor\u001b[39;00m name, m \u001b[38;5;129;01min\u001b[39;00m model\u001b[38;5;241m.\u001b[39mmodules():\n\u001b[1;32m      2\u001b[0m     \u001b[38;5;28mprint\u001b[39m(name, m)\n",
      "\u001b[0;31mTypeError\u001b[0m: cannot unpack non-iterable BlendMask object"
     ]
    }
   ],
   "source": [
    "for name, m in model.modules():\n",
    "    print(name, m)\n",
    "    # if isinstance(m, (Conv2d, nn.Conv2d)):\n",
    "    #     print(name, m)\n",
    "    #     print(name, dict(model.named_modules())[name])\n",
    "        \n",
    "        "
   ]
  },
  {
   "cell_type": "code",
   "execution_count": null,
   "metadata": {},
   "outputs": [],
   "source": []
  }
 ],
 "metadata": {
  "kernelspec": {
   "display_name": "adet_v2",
   "language": "python",
   "name": "python3"
  },
  "language_info": {
   "codemirror_mode": {
    "name": "ipython",
    "version": 3
   },
   "file_extension": ".py",
   "mimetype": "text/x-python",
   "name": "python",
   "nbconvert_exporter": "python",
   "pygments_lexer": "ipython3",
   "version": "3.8.13"
  }
 },
 "nbformat": 4,
 "nbformat_minor": 2
}
