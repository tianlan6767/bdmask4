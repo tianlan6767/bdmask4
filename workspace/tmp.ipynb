{
 "cells": [
  {
   "cell_type": "code",
   "execution_count": 8,
   "metadata": {},
   "outputs": [],
   "source": [
    "import torch\n",
    "import numpy as np\n",
    "import matplotlib.pyplot as plt\n",
    "import math\n",
    "import torch.nn.functional as F"
   ]
  },
  {
   "cell_type": "code",
   "execution_count": 11,
   "metadata": {},
   "outputs": [
    {
     "name": "stdout",
     "output_type": "stream",
     "text": [
      "2 3 4\n"
     ]
    }
   ],
   "source": [
    "\n",
    "a = torch.randint(0,10, (2,3,4))\n",
    "k,p,q = list(map(int, a.shape))\n",
    "k,p,q = map(int, a.shape)\n",
    "print(k, p, q)\n",
    "# print(k, p, q)"
   ]
  },
  {
   "cell_type": "code",
   "execution_count": 2,
   "metadata": {},
   "outputs": [],
   "source": [
    "def load_tensor(file):\n",
    "\n",
    "    with open(file, \"rb\") as f:\n",
    "        binary_data = f.read()\n",
    "\n",
    "    magic_number, ndims, dtype = np.frombuffer(binary_data, np.uint32, count=3, offset=0)\n",
    "    assert magic_number == 0xFCCFE2E2, f\"{file} not a tensor file.\"\n",
    "\n",
    "    dims = np.frombuffer(binary_data, np.uint32, count=ndims, offset=3 * 4)\n",
    "\n",
    "    if dtype == 0:\n",
    "        np_dtype = np.float32\n",
    "    elif dtype == 1:\n",
    "        np_dtype = np.float16\n",
    "    else:\n",
    "        assert False, f\"Unsupport dtype = {dtype}, can not convert to numpy dtype\"\n",
    "\n",
    "    return np.frombuffer(binary_data, np_dtype, offset=(ndims + 3) * 4).reshape(*dims)"
   ]
  },
  {
   "cell_type": "code",
   "execution_count": 3,
   "metadata": {},
   "outputs": [
    {
     "name": "stdout",
     "output_type": "stream",
     "text": [
      "(2048, 2464)\n"
     ]
    },
    {
     "data": {
      "image/png": "[encoded data removed]",
      "text/plain": [
       "<Figure size 432x288 with 1 Axes>"
      ]
     },
     "metadata": {
      "needs_background": "light"
     },
     "output_type": "display_data"
    }
   ],
   "source": [
    "file = r\"/media/ps/data/train/LQ/LQ/bdms/bdmask/workspace/imgs/process/2448\"\n",
    "img = load_tensor(file)\n",
    "im = img[0][0]\n",
    "plt.imshow(im,cmap=\"gray\")\n",
    "outpath = r'/media/ps/data/train/LQ/LQ/bdms/bdmask/workspace/imgs/process/2448----.jpg'\n",
    "plt.imsave(outpath, im, cmap=\"gray\")\n",
    "\n",
    "print(im.shape)\n"
   ]
  },
  {
   "cell_type": "code",
   "execution_count": 1,
   "metadata": {},
   "outputs": [
    {
     "data": {
      "text/plain": [
       "4194304"
      ]
     },
     "execution_count": 1,
     "metadata": {},
     "output_type": "execute_result"
    }
   ],
   "source": [
    "2048*2048\n",
    "(3648, 5472)\n",
    "(3648, 5472)"
   ]
  },
  {
   "cell_type": "code",
   "execution_count": 2,
   "metadata": {},
   "outputs": [
    {
     "data": {
      "text/plain": [
       "87296"
      ]
     },
     "execution_count": 2,
     "metadata": {},
     "output_type": "execute_result"
    }
   ],
   "source": [
    "def mul(h, w):\n",
    "    list = [8, 16, 32, 64, 128]\n",
    "    sum = 0\n",
    "    for i in list:\n",
    "        sum += (int(h / i+0.5) * int(w / i+0.5))\n",
    "    return sum\n",
    "# mul(2048, 2048)\n",
    "mul(2048, 2048)"
   ]
  },
  {
   "cell_type": "code",
   "execution_count": null,
   "metadata": {},
   "outputs": [],
   "source": [
    "2048/8 * 2048 /8 + 2048/16 * 2048 /16 + 2048/32 * 2048 /32"
   ]
  },
  {
   "cell_type": "code",
   "execution_count": 24,
   "metadata": {},
   "outputs": [
    {
     "data": {
      "text/plain": [
       "4902"
      ]
     },
     "execution_count": 24,
     "metadata": {},
     "output_type": "execute_result"
    }
   ],
   "source": [
    "int(3648 / 64+0.5) * int(5472/64+0.5)"
   ]
  },
  {
   "cell_type": "code",
   "execution_count": 25,
   "metadata": {},
   "outputs": [
    {
     "data": {
      "text/plain": [
       "77976"
      ]
     },
     "execution_count": 25,
     "metadata": {},
     "output_type": "execute_result"
    }
   ],
   "source": [
    "int(3648 / 16+0.5) * int(5472/16+0.5)"
   ]
  },
  {
   "cell_type": "code",
   "execution_count": 22,
   "metadata": {},
   "outputs": [
    {
     "data": {
      "text/plain": [
       "1247"
      ]
     },
     "execution_count": 22,
     "metadata": {},
     "output_type": "execute_result"
    }
   ],
   "source": [
    "int(3648 / 128+0.5) * int(5472/128+0.5)"
   ]
  },
  {
   "cell_type": "code",
   "execution_count": 23,
   "metadata": {},
   "outputs": [
    {
     "data": {
      "text/plain": [
       "28.5"
      ]
     },
     "execution_count": 23,
     "metadata": {},
     "output_type": "execute_result"
    }
   ],
   "source": [
    "3648 / 128"
   ]
  },
  {
   "cell_type": "code",
   "execution_count": 27,
   "metadata": {},
   "outputs": [
    {
     "data": {
      "text/plain": [
       "415523"
      ]
     },
     "execution_count": 27,
     "metadata": {},
     "output_type": "execute_result"
    }
   ],
   "source": [
    "311904+77976+19494+4902+1247"
   ]
  },
  {
   "cell_type": "code",
   "execution_count": 44,
   "metadata": {},
   "outputs": [
    {
     "data": {
      "text/plain": [
       "tensor([[5, 2, 4],\n",
       "        [1, 2, 6]])"
      ]
     },
     "execution_count": 44,
     "metadata": {},
     "output_type": "execute_result"
    }
   ],
   "source": [
    "seed = 123\n",
    "torch.manual_seed(seed)\n",
    "torch.cuda.manual_seed_all(seed)\n",
    "\n",
    "a = torch.randint(1, 10, (2,3))\n",
    "a"
   ]
  },
  {
   "cell_type": "code",
   "execution_count": 45,
   "metadata": {},
   "outputs": [
    {
     "data": {
      "text/plain": [
       "tensor([[1, 3, 6],\n",
       "        [8, 9, 8]])"
      ]
     },
     "execution_count": 45,
     "metadata": {},
     "output_type": "execute_result"
    }
   ],
   "source": [
    "b = torch.randint(1, 10, (2,3))\n",
    "b"
   ]
  },
  {
   "cell_type": "code",
   "execution_count": 46,
   "metadata": {},
   "outputs": [
    {
     "data": {
      "text/plain": [
       "tensor([[ 4, -1, -2],\n",
       "        [-7, -7, -2]])"
      ]
     },
     "execution_count": 46,
     "metadata": {},
     "output_type": "execute_result"
    }
   ],
   "source": [
    "a- b"
   ]
  },
  {
   "cell_type": "code",
   "execution_count": 47,
   "metadata": {},
   "outputs": [
    {
     "data": {
      "text/plain": [
       "tensor([[ 4, -1, -2],\n",
       "        [-7, -7, -2]])"
      ]
     },
     "execution_count": 47,
     "metadata": {},
     "output_type": "execute_result"
    }
   ],
   "source": [
    "torch.sub(a, b)"
   ]
  },
  {
   "cell_type": "code",
   "execution_count": 48,
   "metadata": {},
   "outputs": [
    {
     "data": {
      "text/plain": [
       "tensor([[ 6,  5, 10],\n",
       "        [ 9, 11, 14]])"
      ]
     },
     "execution_count": 48,
     "metadata": {},
     "output_type": "execute_result"
    }
   ],
   "source": [
    "a+b"
   ]
  },
  {
   "cell_type": "code",
   "execution_count": 3,
   "metadata": {},
   "outputs": [
    {
     "ename": "NameError",
     "evalue": "name 'a' is not defined",
     "output_type": "error",
     "traceback": [
      "\u001b[0;31m---------------------------------------------------------------------------\u001b[0m",
      "\u001b[0;31mNameError\u001b[0m                                 Traceback (most recent call last)",
      "\u001b[0;32m<ipython-input-3-945aa1dcbc5c>\u001b[0m in \u001b[0;36m<module>\u001b[0;34m\u001b[0m\n\u001b[0;32m----> 1\u001b[0;31m \u001b[0mtorch\u001b[0m\u001b[0;34m.\u001b[0m\u001b[0madd\u001b[0m\u001b[0;34m(\u001b[0m\u001b[0ma\u001b[0m\u001b[0;34m,\u001b[0m \u001b[0mb\u001b[0m\u001b[0;34m)\u001b[0m\u001b[0;34m.\u001b[0m\u001b[0mshape\u001b[0m\u001b[0;34m\u001b[0m\u001b[0m\n\u001b[0m",
      "\u001b[0;31mNameError\u001b[0m: name 'a' is not defined"
     ]
    }
   ],
   "source": [
    "torch.add(a, b).shape"
   ]
  },
  {
   "cell_type": "code",
   "execution_count": 21,
   "metadata": {},
   "outputs": [
    {
     "data": {
      "text/plain": [
       "torch.Size([2, 1])"
      ]
     },
     "execution_count": 21,
     "metadata": {},
     "output_type": "execute_result"
    }
   ],
   "source": [
    "ttt = torch.randint(1, 10, (2,))\n",
    "ttt = ttt[..., None]\n",
    "ttt.shape"
   ]
  },
  {
   "cell_type": "code",
   "execution_count": 14,
   "metadata": {},
   "outputs": [],
   "source": [
    "def compute_locations(h, w, stride, device):\n",
    "    shifts_x = torch.arange(\n",
    "        0, w * stride, step=stride,\n",
    "        dtype=torch.float32, device=device\n",
    "    )       # [0,8,16,24,...,2040]\n",
    "    shifts_y = torch.arange(\n",
    "        0, h * stride, step=stride,\n",
    "        dtype=torch.float32, device=device\n",
    "    )       # [0,8,16,24,...,2040]\n",
    "    shift_y, shift_x = torch.meshgrid(shifts_y, shifts_x)\n",
    "    shift_x = shift_x.reshape(-1)\n",
    "    shift_y = shift_y.reshape(-1)\n",
    "    # print(shift_x)\n",
    "    # print(shift_y)\n",
    "    locations = torch.stack((shift_x, shift_y), dim=1) + stride // 2\n",
    "    return locations"
   ]
  },
  {
   "cell_type": "code",
   "execution_count": 19,
   "metadata": {},
   "outputs": [
    {
     "name": "stdout",
     "output_type": "stream",
     "text": [
      "456 684 8 torch.Size([311904, 2])\n",
      "tensor([[  4.,   4.],\n",
      "        [ 12.,   4.],\n",
      "        [ 20.,   4.],\n",
      "        [ 28.,   4.],\n",
      "        [ 36.,   4.],\n",
      "        [ 44.,   4.],\n",
      "        [ 52.,   4.],\n",
      "        [ 60.,   4.],\n",
      "        [ 68.,   4.],\n",
      "        [ 76.,   4.],\n",
      "        [ 84.,   4.],\n",
      "        [ 92.,   4.],\n",
      "        [100.,   4.],\n",
      "        [108.,   4.],\n",
      "        [116.,   4.]], device='cuda:3')\n",
      "228 342 16 torch.Size([77976, 2])\n",
      "tensor([[  8.,   8.],\n",
      "        [ 24.,   8.],\n",
      "        [ 40.,   8.],\n",
      "        [ 56.,   8.],\n",
      "        [ 72.,   8.],\n",
      "        [ 88.,   8.],\n",
      "        [104.,   8.],\n",
      "        [120.,   8.],\n",
      "        [136.,   8.],\n",
      "        [152.,   8.],\n",
      "        [168.,   8.],\n",
      "        [184.,   8.],\n",
      "        [200.,   8.],\n",
      "        [216.,   8.],\n",
      "        [232.,   8.]], device='cuda:3')\n",
      "114 171 32 torch.Size([19494, 2])\n",
      "tensor([[ 16.,  16.],\n",
      "        [ 48.,  16.],\n",
      "        [ 80.,  16.],\n",
      "        [112.,  16.],\n",
      "        [144.,  16.],\n",
      "        [176.,  16.],\n",
      "        [208.,  16.],\n",
      "        [240.,  16.],\n",
      "        [272.,  16.],\n",
      "        [304.,  16.],\n",
      "        [336.,  16.],\n",
      "        [368.,  16.],\n",
      "        [400.,  16.],\n",
      "        [432.,  16.],\n",
      "        [464.,  16.]], device='cuda:3')\n",
      "57 86 64 torch.Size([4902, 2])\n",
      "tensor([[ 32.,  32.],\n",
      "        [ 96.,  32.],\n",
      "        [160.,  32.],\n",
      "        [224.,  32.],\n",
      "        [288.,  32.],\n",
      "        [352.,  32.],\n",
      "        [416.,  32.],\n",
      "        [480.,  32.],\n",
      "        [544.,  32.],\n",
      "        [608.,  32.],\n",
      "        [672.,  32.],\n",
      "        [736.,  32.],\n",
      "        [800.,  32.],\n",
      "        [864.,  32.],\n",
      "        [928.,  32.]], device='cuda:3')\n",
      "29 43 128 torch.Size([1247, 2])\n",
      "tensor([[  64.,   64.],\n",
      "        [ 192.,   64.],\n",
      "        [ 320.,   64.],\n",
      "        [ 448.,   64.],\n",
      "        [ 576.,   64.],\n",
      "        [ 704.,   64.],\n",
      "        [ 832.,   64.],\n",
      "        [ 960.,   64.],\n",
      "        [1088.,   64.],\n",
      "        [1216.,   64.],\n",
      "        [1344.,   64.],\n",
      "        [1472.,   64.],\n",
      "        [1600.,   64.],\n",
      "        [1728.,   64.],\n",
      "        [1856.,   64.]], device='cuda:3')\n"
     ]
    }
   ],
   "source": [
    "h = 3648\n",
    "w = 5472\n",
    "strides = [8,16,32,64,128]\n",
    "device = \"cuda:3\"\n",
    "for stride in strides:\n",
    "    h_step = math.ceil(h / stride)\n",
    "    w_step = math.ceil(w / stride)\n",
    "    locations = compute_locations(h_step, w_step, stride, device)\n",
    "    print(h_step, w_step, stride, locations.shape)\n",
    "    print(locations[:15])\n"
   ]
  },
  {
   "cell_type": "code",
   "execution_count": 33,
   "metadata": {},
   "outputs": [
    {
     "name": "stdout",
     "output_type": "stream",
     "text": [
      "torch.Size([5, 4]) torch.Size([5, 4])\n",
      "tensor([[3, 3, 3, 3],\n",
      "        [4, 4, 4, 4],\n",
      "        [5, 5, 5, 5],\n",
      "        [6, 6, 6, 6],\n",
      "        [7, 7, 7, 7]]) tensor([[2, 3, 3, 4],\n",
      "        [2, 3, 3, 4],\n",
      "        [2, 3, 3, 4],\n",
      "        [2, 3, 3, 4],\n",
      "        [2, 3, 3, 4]]) torch.Size([20, 2])\n"
     ]
    }
   ],
   "source": [
    "shifts_y = torch.tensor([3,4,5,6,7])\n",
    "shifts_x = torch.tensor([2,3,3,4])\n",
    "yx, xy = torch.meshgrid(shifts_y, shifts_x)\n",
    "\n",
    "shift_x = xy.reshape(-1)\n",
    "shift_y = yx.reshape(-1)\n",
    "print(yx.shape, xy.shape)\n",
    "locations = torch.stack((shift_x, shift_y), dim=1) + stride // 2\n",
    "print(yx, xy, locations.shape)"
   ]
  },
  {
   "cell_type": "code",
   "execution_count": 16,
   "metadata": {},
   "outputs": [],
   "source": [
    "import torch\n",
    "from glob import glob\n",
    "import os.path as osp\n",
    "import imagesize"
   ]
  },
  {
   "cell_type": "code",
   "execution_count": 19,
   "metadata": {},
   "outputs": [
    {
     "name": "stdout",
     "output_type": "stream",
     "text": [
      "<torch.utils.data.dataloader.DataLoader object at 0x7f3194a460f0>\n",
      "{'filename': ['/media/ps/data/train/LQ/LQ/bdms/yolov7/datasets/coco128/images/train/000000000490.jpg'], 'height': tensor([500]), 'width': tensor([495])}\n",
      "{'filename': ['/media/ps/data/train/LQ/LQ/bdms/yolov7/datasets/coco128/images/train/000000000154.jpg'], 'height': tensor([427]), 'width': tensor([640])}\n",
      "{'filename': ['/media/ps/data/train/LQ/LQ/bdms/yolov7/datasets/coco128/images/train/000000000370.jpg'], 'height': tensor([480]), 'width': tensor([640])}\n",
      "{'filename': ['/media/ps/data/train/LQ/LQ/bdms/yolov7/datasets/coco128/images/train/000000000589.jpg'], 'height': tensor([640]), 'width': tensor([480])}\n",
      "{'filename': ['/media/ps/data/train/LQ/LQ/bdms/yolov7/datasets/coco128/images/train/000000000564.jpg'], 'height': tensor([520]), 'width': tensor([640])}\n",
      "{'filename': ['/media/ps/data/train/LQ/LQ/bdms/yolov7/datasets/coco128/images/train/000000000544.jpg'], 'height': tensor([640]), 'width': tensor([427])}\n",
      "{'filename': ['/media/ps/data/train/LQ/LQ/bdms/yolov7/datasets/coco128/images/train/000000000338.jpg'], 'height': tensor([640]), 'width': tensor([327])}\n",
      "{'filename': ['/media/ps/data/train/LQ/LQ/bdms/yolov7/datasets/coco128/images/train/000000000428.jpg'], 'height': tensor([640]), 'width': tensor([360])}\n",
      "{'filename': ['/media/ps/data/train/LQ/LQ/bdms/yolov7/datasets/coco128/images/train/000000000502.jpg'], 'height': tensor([640]), 'width': tensor([427])}\n",
      "{'filename': ['/media/ps/data/train/LQ/LQ/bdms/yolov7/datasets/coco128/images/train/000000000508.jpg'], 'height': tensor([640]), 'width': tensor([480])}\n",
      "{'filename': ['/media/ps/data/train/LQ/LQ/bdms/yolov7/datasets/coco128/images/train/000000000109.jpg'], 'height': tensor([640]), 'width': tensor([416])}\n",
      "{'filename': ['/media/ps/data/train/LQ/LQ/bdms/yolov7/datasets/coco128/images/train/000000000151.jpg'], 'height': tensor([480]), 'width': tensor([640])}\n",
      "{'filename': ['/media/ps/data/train/LQ/LQ/bdms/yolov7/datasets/coco128/images/train/000000000196.jpg'], 'height': tensor([640]), 'width': tensor([480])}\n",
      "{'filename': ['/media/ps/data/train/LQ/LQ/bdms/yolov7/datasets/coco128/images/train/000000000595.jpg'], 'height': tensor([640]), 'width': tensor([480])}\n",
      "{'filename': ['/media/ps/data/train/LQ/LQ/bdms/yolov7/datasets/coco128/images/train/000000000078.jpg'], 'height': tensor([612]), 'width': tensor([612])}\n",
      "{'filename': ['/media/ps/data/train/LQ/LQ/bdms/yolov7/datasets/coco128/images/train/000000000597.jpg'], 'height': tensor([640]), 'width': tensor([248])}\n",
      "{'filename': ['/media/ps/data/train/LQ/LQ/bdms/yolov7/datasets/coco128/images/train/000000000488.jpg'], 'height': tensor([640]), 'width': tensor([406])}\n",
      "{'filename': ['/media/ps/data/train/LQ/LQ/bdms/yolov7/datasets/coco128/images/train/000000000034.jpg'], 'height': tensor([640]), 'width': tensor([425])}\n",
      "{'filename': ['/media/ps/data/train/LQ/LQ/bdms/yolov7/datasets/coco128/images/train/000000000634.jpg'], 'height': tensor([427]), 'width': tensor([640])}\n",
      "{'filename': ['/media/ps/data/train/LQ/LQ/bdms/yolov7/datasets/coco128/images/train/000000000542.jpg'], 'height': tensor([640]), 'width': tensor([484])}\n",
      "{'filename': ['/media/ps/data/train/LQ/LQ/bdms/yolov7/datasets/coco128/images/train/000000000581.jpg'], 'height': tensor([473]), 'width': tensor([500])}\n",
      "{'filename': ['/media/ps/data/train/LQ/LQ/bdms/yolov7/datasets/coco128/images/train/000000000315.jpg'], 'height': tensor([640]), 'width': tensor([427])}\n",
      "{'filename': ['/media/ps/data/train/LQ/LQ/bdms/yolov7/datasets/coco128/images/train/000000000612.jpg'], 'height': tensor([640]), 'width': tensor([480])}\n",
      "{'filename': ['/media/ps/data/train/LQ/LQ/bdms/yolov7/datasets/coco128/images/train/000000000491.jpg'], 'height': tensor([500]), 'width': tensor([313])}\n",
      "{'filename': ['/media/ps/data/train/LQ/LQ/bdms/yolov7/datasets/coco128/images/train/000000000562.jpg'], 'height': tensor([423]), 'width': tensor([640])}\n",
      "{'filename': ['/media/ps/data/train/LQ/LQ/bdms/yolov7/datasets/coco128/images/train/000000000536.jpg'], 'height': tensor([448]), 'width': tensor([336])}\n",
      "{'filename': ['/media/ps/data/train/LQ/LQ/bdms/yolov7/datasets/coco128/images/train/000000000382.jpg'], 'height': tensor([640]), 'width': tensor([480])}\n",
      "{'filename': ['/media/ps/data/train/LQ/LQ/bdms/yolov7/datasets/coco128/images/train/000000000144.jpg'], 'height': tensor([640]), 'width': tensor([480])}\n",
      "{'filename': ['/media/ps/data/train/LQ/LQ/bdms/yolov7/datasets/coco128/images/train/000000000092.jpg'], 'height': tensor([640]), 'width': tensor([427])}\n",
      "{'filename': ['/media/ps/data/train/LQ/LQ/bdms/yolov7/datasets/coco128/images/train/000000000404.jpg'], 'height': tensor([426]), 'width': tensor([640])}\n",
      "{'filename': ['/media/ps/data/train/LQ/LQ/bdms/yolov7/datasets/coco128/images/train/000000000590.jpg'], 'height': tensor([409]), 'width': tensor([500])}\n",
      "{'filename': ['/media/ps/data/train/LQ/LQ/bdms/yolov7/datasets/coco128/images/train/000000000394.jpg'], 'height': tensor([640]), 'width': tensor([611])}\n",
      "{'filename': ['/media/ps/data/train/LQ/LQ/bdms/yolov7/datasets/coco128/images/train/000000000400.jpg'], 'height': tensor([638]), 'width': tensor([640])}\n",
      "{'filename': ['/media/ps/data/train/LQ/LQ/bdms/yolov7/datasets/coco128/images/train/000000000584.jpg'], 'height': tensor([640]), 'width': tensor([426])}\n",
      "{'filename': ['/media/ps/data/train/LQ/LQ/bdms/yolov7/datasets/coco128/images/train/000000000073.jpg'], 'height': tensor([565]), 'width': tensor([640])}\n",
      "{'filename': ['/media/ps/data/train/LQ/LQ/bdms/yolov7/datasets/coco128/images/train/000000000572.jpg'], 'height': tensor([427]), 'width': tensor([640])}\n",
      "{'filename': ['/media/ps/data/train/LQ/LQ/bdms/yolov7/datasets/coco128/images/train/000000000308.jpg'], 'height': tensor([640]), 'width': tensor([426])}\n",
      "{'filename': ['/media/ps/data/train/LQ/LQ/bdms/yolov7/datasets/coco128/images/train/000000000071.jpg'], 'height': tensor([640]), 'width': tensor([426])}\n",
      "{'filename': ['/media/ps/data/train/LQ/LQ/bdms/yolov7/datasets/coco128/images/train/000000000415.jpg'], 'height': tensor([359]), 'width': tensor([640])}\n",
      "{'filename': ['/media/ps/data/train/LQ/LQ/bdms/yolov7/datasets/coco128/images/train/000000000081.jpg'], 'height': tensor([640]), 'width': tensor([425])}\n",
      "{'filename': ['/media/ps/data/train/LQ/LQ/bdms/yolov7/datasets/coco128/images/train/000000000599.jpg'], 'height': tensor([640]), 'width': tensor([407])}\n",
      "{'filename': ['/media/ps/data/train/LQ/LQ/bdms/yolov7/datasets/coco128/images/train/000000000625.jpg'], 'height': tensor([640]), 'width': tensor([446])}\n",
      "{'filename': ['/media/ps/data/train/LQ/LQ/bdms/yolov7/datasets/coco128/images/train/000000000241.jpg'], 'height': tensor([480]), 'width': tensor([640])}\n",
      "{'filename': ['/media/ps/data/train/LQ/LQ/bdms/yolov7/datasets/coco128/images/train/000000000194.jpg'], 'height': tensor([640]), 'width': tensor([480])}\n",
      "{'filename': ['/media/ps/data/train/LQ/LQ/bdms/yolov7/datasets/coco128/images/train/000000000110.jpg'], 'height': tensor([640]), 'width': tensor([480])}\n",
      "{'filename': ['/media/ps/data/train/LQ/LQ/bdms/yolov7/datasets/coco128/images/train/000000000263.jpg'], 'height': tensor([591]), 'width': tensor([640])}\n",
      "{'filename': ['/media/ps/data/train/LQ/LQ/bdms/yolov7/datasets/coco128/images/train/000000000250.jpg'], 'height': tensor([640]), 'width': tensor([480])}\n",
      "{'filename': ['/media/ps/data/train/LQ/LQ/bdms/yolov7/datasets/coco128/images/train/000000000208.jpg'], 'height': tensor([640]), 'width': tensor([480])}\n",
      "{'filename': ['/media/ps/data/train/LQ/LQ/bdms/yolov7/datasets/coco128/images/train/000000000165.jpg'], 'height': tensor([640]), 'width': tensor([536])}\n",
      "{'filename': ['/media/ps/data/train/LQ/LQ/bdms/yolov7/datasets/coco128/images/train/000000000641.jpg'], 'height': tensor([640]), 'width': tensor([428])}\n",
      "{'filename': ['/media/ps/data/train/LQ/LQ/bdms/yolov7/datasets/coco128/images/train/000000000247.jpg'], 'height': tensor([640]), 'width': tensor([424])}\n",
      "{'filename': ['/media/ps/data/train/LQ/LQ/bdms/yolov7/datasets/coco128/images/train/000000000133.jpg'], 'height': tensor([640]), 'width': tensor([480])}\n",
      "{'filename': ['/media/ps/data/train/LQ/LQ/bdms/yolov7/datasets/coco128/images/train/000000000395.jpg'], 'height': tensor([640]), 'width': tensor([580])}\n",
      "{'filename': ['/media/ps/data/train/LQ/LQ/bdms/yolov7/datasets/coco128/images/train/000000000531.jpg'], 'height': tensor([640]), 'width': tensor([480])}\n",
      "{'filename': ['/media/ps/data/train/LQ/LQ/bdms/yolov7/datasets/coco128/images/train/000000000138.jpg'], 'height': tensor([640]), 'width': tensor([573])}\n",
      "{'filename': ['/media/ps/data/train/LQ/LQ/bdms/yolov7/datasets/coco128/images/train/000000000294.jpg'], 'height': tensor([640]), 'width': tensor([427])}\n",
      "{'filename': ['/media/ps/data/train/LQ/LQ/bdms/yolov7/datasets/coco128/images/train/000000000061.jpg'], 'height': tensor([640]), 'width': tensor([488])}\n",
      "{'filename': ['/media/ps/data/train/LQ/LQ/bdms/yolov7/datasets/coco128/images/train/000000000149.jpg'], 'height': tensor([640]), 'width': tensor([428])}\n",
      "{'filename': ['/media/ps/data/train/LQ/LQ/bdms/yolov7/datasets/coco128/images/train/000000000143.jpg'], 'height': tensor([600]), 'width': tensor([500])}\n",
      "{'filename': ['/media/ps/data/train/LQ/LQ/bdms/yolov7/datasets/coco128/images/train/000000000127.jpg'], 'height': tensor([640]), 'width': tensor([481])}\n",
      "{'filename': ['/media/ps/data/train/LQ/LQ/bdms/yolov7/datasets/coco128/images/train/000000000486.jpg'], 'height': tensor([640]), 'width': tensor([427])}\n",
      "{'filename': ['/media/ps/data/train/LQ/LQ/bdms/yolov7/datasets/coco128/images/train/000000000368.jpg'], 'height': tensor([480]), 'width': tensor([640])}\n",
      "{'filename': ['/media/ps/data/train/LQ/LQ/bdms/yolov7/datasets/coco128/images/train/000000000094.jpg'], 'height': tensor([640]), 'width': tensor([427])}\n",
      "{'filename': ['/media/ps/data/train/LQ/LQ/bdms/yolov7/datasets/coco128/images/train/000000000560.jpg'], 'height': tensor([460]), 'width': tensor([312])}\n",
      "{'filename': ['/media/ps/data/train/LQ/LQ/bdms/yolov7/datasets/coco128/images/train/000000000643.jpg'], 'height': tensor([500]), 'width': tensor([375])}\n",
      "{'filename': ['/media/ps/data/train/LQ/LQ/bdms/yolov7/datasets/coco128/images/train/000000000309.jpg'], 'height': tensor([600]), 'width': tensor([600])}\n",
      "{'filename': ['/media/ps/data/train/LQ/LQ/bdms/yolov7/datasets/coco128/images/train/000000000349.jpg'], 'height': tensor([640]), 'width': tensor([480])}\n",
      "{'filename': ['/media/ps/data/train/LQ/LQ/bdms/yolov7/datasets/coco128/images/train/000000000025.jpg'], 'height': tensor([640]), 'width': tensor([426])}\n",
      "{'filename': ['/media/ps/data/train/LQ/LQ/bdms/yolov7/datasets/coco128/images/train/000000000192.jpg'], 'height': tensor([640]), 'width': tensor([480])}\n",
      "{'filename': ['/media/ps/data/train/LQ/LQ/bdms/yolov7/datasets/coco128/images/train/000000000201.jpg'], 'height': tensor([640]), 'width': tensor([428])}\n",
      "{'filename': ['/media/ps/data/train/LQ/LQ/bdms/yolov7/datasets/coco128/images/train/000000000283.jpg'], 'height': tensor([428]), 'width': tensor([640])}\n",
      "{'filename': ['/media/ps/data/train/LQ/LQ/bdms/yolov7/datasets/coco128/images/train/000000000529.jpg'], 'height': tensor([427]), 'width': tensor([640])}\n",
      "{'filename': ['/media/ps/data/train/LQ/LQ/bdms/yolov7/datasets/coco128/images/train/000000000389.jpg'], 'height': tensor([640]), 'width': tensor([480])}\n",
      "{'filename': ['/media/ps/data/train/LQ/LQ/bdms/yolov7/datasets/coco128/images/train/000000000431.jpg'], 'height': tensor([640]), 'width': tensor([389])}\n",
      "{'filename': ['/media/ps/data/train/LQ/LQ/bdms/yolov7/datasets/coco128/images/train/000000000419.jpg'], 'height': tensor([640]), 'width': tensor([480])}\n",
      "{'filename': ['/media/ps/data/train/LQ/LQ/bdms/yolov7/datasets/coco128/images/train/000000000436.jpg'], 'height': tensor([427]), 'width': tensor([640])}\n",
      "{'filename': ['/media/ps/data/train/LQ/LQ/bdms/yolov7/datasets/coco128/images/train/000000000650.jpg'], 'height': tensor([640]), 'width': tensor([427])}\n",
      "{'filename': ['/media/ps/data/train/LQ/LQ/bdms/yolov7/datasets/coco128/images/train/000000000623.jpg'], 'height': tensor([375]), 'width': tensor([500])}\n",
      "{'filename': ['/media/ps/data/train/LQ/LQ/bdms/yolov7/datasets/coco128/images/train/000000000360.jpg'], 'height': tensor([500]), 'width': tensor([375])}\n",
      "{'filename': ['/media/ps/data/train/LQ/LQ/bdms/yolov7/datasets/coco128/images/train/000000000472.jpg'], 'height': tensor([640]), 'width': tensor([226])}\n",
      "{'filename': ['/media/ps/data/train/LQ/LQ/bdms/yolov7/datasets/coco128/images/train/000000000446.jpg'], 'height': tensor([480]), 'width': tensor([640])}\n",
      "{'filename': ['/media/ps/data/train/LQ/LQ/bdms/yolov7/datasets/coco128/images/train/000000000142.jpg'], 'height': tensor([480]), 'width': tensor([640])}\n",
      "{'filename': ['/media/ps/data/train/LQ/LQ/bdms/yolov7/datasets/coco128/images/train/000000000064.jpg'], 'height': tensor([480]), 'width': tensor([640])}\n",
      "{'filename': ['/media/ps/data/train/LQ/LQ/bdms/yolov7/datasets/coco128/images/train/000000000520.jpg'], 'height': tensor([640]), 'width': tensor([480])}\n",
      "{'filename': ['/media/ps/data/train/LQ/LQ/bdms/yolov7/datasets/coco128/images/train/000000000605.jpg'], 'height': tensor([640]), 'width': tensor([480])}\n",
      "{'filename': ['/media/ps/data/train/LQ/LQ/bdms/yolov7/datasets/coco128/images/train/000000000074.jpg'], 'height': tensor([640]), 'width': tensor([426])}\n",
      "{'filename': ['/media/ps/data/train/LQ/LQ/bdms/yolov7/datasets/coco128/images/train/000000000443.jpg'], 'height': tensor([640]), 'width': tensor([480])}\n",
      "{'filename': ['/media/ps/data/train/LQ/LQ/bdms/yolov7/datasets/coco128/images/train/000000000384.jpg'], 'height': tensor([446]), 'width': tensor([640])}\n",
      "{'filename': ['/media/ps/data/train/LQ/LQ/bdms/yolov7/datasets/coco128/images/train/000000000036.jpg'], 'height': tensor([481]), 'width': tensor([640])}\n",
      "{'filename': ['/media/ps/data/train/LQ/LQ/bdms/yolov7/datasets/coco128/images/train/000000000321.jpg'], 'height': tensor([640]), 'width': tensor([480])}\n",
      "{'filename': ['/media/ps/data/train/LQ/LQ/bdms/yolov7/datasets/coco128/images/train/000000000359.jpg'], 'height': tensor([500]), 'width': tensor([332])}\n",
      "{'filename': ['/media/ps/data/train/LQ/LQ/bdms/yolov7/datasets/coco128/images/train/000000000620.jpg'], 'height': tensor([480]), 'width': tensor([640])}\n",
      "{'filename': ['/media/ps/data/train/LQ/LQ/bdms/yolov7/datasets/coco128/images/train/000000000397.jpg'], 'height': tensor([640]), 'width': tensor([480])}\n",
      "{'filename': ['/media/ps/data/train/LQ/LQ/bdms/yolov7/datasets/coco128/images/train/000000000532.jpg'], 'height': tensor([640]), 'width': tensor([480])}\n",
      "{'filename': ['/media/ps/data/train/LQ/LQ/bdms/yolov7/datasets/coco128/images/train/000000000113.jpg'], 'height': tensor([416]), 'width': tensor([640])}\n",
      "{'filename': ['/media/ps/data/train/LQ/LQ/bdms/yolov7/datasets/coco128/images/train/000000000086.jpg'], 'height': tensor([512]), 'width': tensor([640])}\n",
      "{'filename': ['/media/ps/data/train/LQ/LQ/bdms/yolov7/datasets/coco128/images/train/000000000474.jpg'], 'height': tensor([333]), 'width': tensor([500])}\n",
      "{'filename': ['/media/ps/data/train/LQ/LQ/bdms/yolov7/datasets/coco128/images/train/000000000322.jpg'], 'height': tensor([640]), 'width': tensor([481])}\n",
      "{'filename': ['/media/ps/data/train/LQ/LQ/bdms/yolov7/datasets/coco128/images/train/000000000042.jpg'], 'height': tensor([640]), 'width': tensor([478])}\n",
      "{'filename': ['/media/ps/data/train/LQ/LQ/bdms/yolov7/datasets/coco128/images/train/000000000629.jpg'], 'height': tensor([640]), 'width': tensor([427])}\n",
      "{'filename': ['/media/ps/data/train/LQ/LQ/bdms/yolov7/datasets/coco128/images/train/000000000077.jpg'], 'height': tensor([500]), 'width': tensor([375])}\n",
      "{'filename': ['/media/ps/data/train/LQ/LQ/bdms/yolov7/datasets/coco128/images/train/000000000510.jpg'], 'height': tensor([640]), 'width': tensor([480])}\n",
      "{'filename': ['/media/ps/data/train/LQ/LQ/bdms/yolov7/datasets/coco128/images/train/000000000009.jpg'], 'height': tensor([640]), 'width': tensor([480])}\n",
      "{'filename': ['/media/ps/data/train/LQ/LQ/bdms/yolov7/datasets/coco128/images/train/000000000307.jpg'], 'height': tensor([640]), 'width': tensor([480])}\n",
      "{'filename': ['/media/ps/data/train/LQ/LQ/bdms/yolov7/datasets/coco128/images/train/000000000049.jpg'], 'height': tensor([381]), 'width': tensor([500])}\n",
      "{'filename': ['/media/ps/data/train/LQ/LQ/bdms/yolov7/datasets/coco128/images/train/000000000569.jpg'], 'height': tensor([640]), 'width': tensor([480])}\n",
      "{'filename': ['/media/ps/data/train/LQ/LQ/bdms/yolov7/datasets/coco128/images/train/000000000164.jpg'], 'height': tensor([640]), 'width': tensor([480])}\n",
      "{'filename': ['/media/ps/data/train/LQ/LQ/bdms/yolov7/datasets/coco128/images/train/000000000312.jpg'], 'height': tensor([640]), 'width': tensor([427])}\n",
      "{'filename': ['/media/ps/data/train/LQ/LQ/bdms/yolov7/datasets/coco128/images/train/000000000332.jpg'], 'height': tensor([640]), 'width': tensor([480])}\n",
      "{'filename': ['/media/ps/data/train/LQ/LQ/bdms/yolov7/datasets/coco128/images/train/000000000438.jpg'], 'height': tensor([640]), 'width': tensor([480])}\n",
      "{'filename': ['/media/ps/data/train/LQ/LQ/bdms/yolov7/datasets/coco128/images/train/000000000136.jpg'], 'height': tensor([500]), 'width': tensor([374])}\n",
      "{'filename': ['/media/ps/data/train/LQ/LQ/bdms/yolov7/datasets/coco128/images/train/000000000328.jpg'], 'height': tensor([640]), 'width': tensor([491])}\n",
      "{'filename': ['/media/ps/data/train/LQ/LQ/bdms/yolov7/datasets/coco128/images/train/000000000514.jpg'], 'height': tensor([360]), 'width': tensor([640])}\n",
      "{'filename': ['/media/ps/data/train/LQ/LQ/bdms/yolov7/datasets/coco128/images/train/000000000260.jpg'], 'height': tensor([500]), 'width': tensor([333])}\n",
      "{'filename': ['/media/ps/data/train/LQ/LQ/bdms/yolov7/datasets/coco128/images/train/000000000089.jpg'], 'height': tensor([640]), 'width': tensor([480])}\n",
      "{'filename': ['/media/ps/data/train/LQ/LQ/bdms/yolov7/datasets/coco128/images/train/000000000387.jpg'], 'height': tensor([640]), 'width': tensor([480])}\n",
      "{'filename': ['/media/ps/data/train/LQ/LQ/bdms/yolov7/datasets/coco128/images/train/000000000072.jpg'], 'height': tensor([427]), 'width': tensor([640])}\n",
      "{'filename': ['/media/ps/data/train/LQ/LQ/bdms/yolov7/datasets/coco128/images/train/000000000459.jpg'], 'height': tensor([516]), 'width': tensor([640])}\n",
      "{'filename': ['/media/ps/data/train/LQ/LQ/bdms/yolov7/datasets/coco128/images/train/000000000030.jpg'], 'height': tensor([640]), 'width': tensor([428])}\n",
      "{'filename': ['/media/ps/data/train/LQ/LQ/bdms/yolov7/datasets/coco128/images/train/000000000326.jpg'], 'height': tensor([640]), 'width': tensor([427])}\n",
      "{'filename': ['/media/ps/data/train/LQ/LQ/bdms/yolov7/datasets/coco128/images/train/000000000626.jpg'], 'height': tensor([640]), 'width': tensor([480])}\n",
      "{'filename': ['/media/ps/data/train/LQ/LQ/bdms/yolov7/datasets/coco128/images/train/000000000471.jpg'], 'height': tensor([640]), 'width': tensor([427])}\n",
      "{'filename': ['/media/ps/data/train/LQ/LQ/bdms/yolov7/datasets/coco128/images/train/000000000636.jpg'], 'height': tensor([480]), 'width': tensor([640])}\n",
      "{'filename': ['/media/ps/data/train/LQ/LQ/bdms/yolov7/datasets/coco128/images/train/000000000357.jpg'], 'height': tensor([640]), 'width': tensor([218])}\n",
      "{'filename': ['/media/ps/data/train/LQ/LQ/bdms/yolov7/datasets/coco128/images/train/000000000450.jpg'], 'height': tensor([640]), 'width': tensor([480])}\n",
      "{'filename': ['/media/ps/data/train/LQ/LQ/bdms/yolov7/datasets/coco128/images/train/000000000575.jpg'], 'height': tensor([640]), 'width': tensor([513])}\n",
      "{'filename': ['/media/ps/data/train/LQ/LQ/bdms/yolov7/datasets/coco128/images/train/000000000257.jpg'], 'height': tensor([640]), 'width': tensor([480])}\n",
      "{'filename': ['/media/ps/data/train/LQ/LQ/bdms/yolov7/datasets/coco128/images/train/000000000540.jpg'], 'height': tensor([640]), 'width': tensor([425])}\n"
     ]
    }
   ],
   "source": [
    "src = r\"/media/ps/data/train/LQ/LQ/bdms/yolov7/datasets/coco128/images/train\"\n",
    "imps = glob(src + \"/*.jpg\")\n",
    "dic = []\n",
    "for idx, imp in enumerate(imps):\n",
    "    # print(imagesize.get(imp))\n",
    "    h, w  = imagesize.get(imp)\n",
    "    dic.append({\n",
    "        \"filename\":imp,\n",
    "        \"height\":h,\n",
    "        \"width\":w\n",
    "    })\n",
    "dataloader = torch.utils.data.DataLoader(dic)\n",
    "print(dataloader)\n",
    "for datas in dataloader:\n",
    "    print(datas)"
   ]
  },
  {
   "cell_type": "code",
   "execution_count": 20,
   "metadata": {},
   "outputs": [
    {
     "name": "stdout",
     "output_type": "stream",
     "text": [
      "tensor([9., 1., 3., 7.]) \n",
      " tensor([9.0000, 9.0000, 8.0000, 6.0000, 4.0000, 2.0000, 1.2500, 1.7500, 2.2500,\n",
      "        2.7500, 3.5000, 4.5000, 5.5000, 6.5000, 7.0000, 7.0000]) torch.Size([1, 1, 2, 4]) torch.Size([1, 1, 8, 16])\n"
     ]
    }
   ],
   "source": [
    "torch.manual_seed(0)\n",
    "a = torch.randint(1, 10, (1,1,2,4), dtype=torch.float32)\n",
    "coeffs = F.interpolate(a, scale_factor=4,\n",
    "                            mode='bilinear', align_corners=False)\n",
    "\n",
    "\n",
    "print(a[0,0,0], \"\\n\",coeffs[0,0,0], a.shape, coeffs.shape)"
   ]
  },
  {
   "cell_type": "code",
   "execution_count": null,
   "metadata": {},
   "outputs": [],
   "source": []
  },
  {
   "cell_type": "code",
   "execution_count": null,
   "metadata": {},
   "outputs": [],
   "source": []
  }
 ],
 "metadata": {
  "kernelspec": {
   "display_name": "Python 3.6.6 ('adet')",
   "language": "python",
   "name": "python3"
  },
  "language_info": {
   "codemirror_mode": {
    "name": "ipython",
    "version": 3
   },
   "file_extension": ".py",
   "mimetype": "text/x-python",
   "name": "python",
   "nbconvert_exporter": "python",
   "pygments_lexer": "ipython3",
   "version": "3.6.6"
  },
  "orig_nbformat": 4,
  "vscode": {
   "interpreter": {
    "hash": "3bc1da48524977198160280456b310d34a88700418ee6197d48ccf2192b413b9"
   }
  }
 },
 "nbformat": 4,
 "nbformat_minor": 2
}
